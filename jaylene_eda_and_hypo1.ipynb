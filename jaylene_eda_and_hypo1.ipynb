{
 "cells": [
  {
   "cell_type": "markdown",
   "metadata": {},
   "source": [
    "## Jaylene's Spotify Data  \n",
    "### From 2021-06-26 to 2022-01-29\n",
    "\n",
    "### Background:\n",
    "This is about 1/2 of the total streaming history data from Jaylene's Spotify account. It was downloaded in JSON format. I'm using the later half of the data I recieved because I think it will be a more accurate view of my music tastes and will provide the most accurate information for hypothesis testing and predictions. \n",
    "This file has thousands of streams over the span of 6 months. \n",
    "\n",
    "Some quick predictions:\n",
    "1. Top Artist: Taylor Swift\n",
    "2. Second or thrid place: Lana Del Rey and Ariana Grande\n",
    "3. Most popular genre (determined by api): Pop\n",
    "4. Note: this data is not album specific, thus aritsts with more work may be statistically favored over smaller artists\n",
    "\n",
    "### Loading the data:\n",
    "The file is loaded into a pandas dataframe for easy processing! The file name is `StreamingHisotry`.  \n",
    "Now, when the entire data is referenced, it will be under variable name `streams_df`."
   ]
  },
  {
   "cell_type": "code",
   "execution_count": 1,
   "metadata": {},
   "outputs": [],
   "source": [
    "import numpy as np\n",
    "import pandas as pd\n",
    "import matplotlib.pyplot as plt\n",
    "\n",
    "#load JSON file into pandas DataFrame\n",
    "streams_df = pd.read_json(\"StreamingHistory.json\")   \n",
    "# print(streams_df)   # test"
   ]
  },
  {
   "cell_type": "markdown",
   "metadata": {},
   "source": [
    "### Exploring the Data:\n",
    "Using the Pandas dataframe, we can look at the `artistName` column to find how often an artist was played. The oens with the most streams will be the most popular artists for this data set!\n"
   ]
  },
  {
   "cell_type": "code",
   "execution_count": 2,
   "metadata": {},
   "outputs": [
    {
     "name": "stdout",
     "output_type": "stream",
     "text": [
      "### mirrorball                152\n",
      "exile (feat. Bon Iver)    145\n",
      "brutal                    139\n",
      "Jane                      137\n",
      "drivers license           123\n",
      "                         ... \n",
      "Take a Break                1\n",
      "Believer                    1\n",
      "Helpless                    1\n",
      "Shut Up And Dance           1\n",
      "emily                       1\n",
      "Name: trackName, Length: 1443, dtype: int64 ###\n",
      "mirrorball                                                                        152\n",
      "exile (feat. Bon Iver)                                                            145\n",
      "brutal                                                                            139\n",
      "Jane                                                                              137\n",
      "drivers license                                                                   123\n",
      "epiphany                                                                          123\n",
      "this is me trying                                                                 113\n",
      "The Rose Song - From \"High School Musical: The Musical: The Series (Season 2)\"    111\n",
      "deja vu                                                                           102\n",
      "Hallelujah - Acoustic                                                              97\n",
      "Love Story (Taylor’s Version)                                                      96\n",
      "jealousy, jealousy                                                                 96\n",
      "Happier Than Ever                                                                  96\n",
      "traitor                                                                            94\n",
      "Blank Space                                                                        91\n",
      "Name: trackName, dtype: int64\n"
     ]
    }
   ],
   "source": [
    "# Calculate the most commnly occuring artist & how many times the artist occurs\n",
    "# use .value_counts() to see the top artist and how many times they occur\n",
    "# print(streams_df[\"artistName\"].value_counts().head(15), \"###\")    #test\n",
    "# for i in streams_df.columns :  #  test, find unique values\n",
    "#     print(i, streams_df[i].unique( ))\n",
    "\n",
    "# How many times the most popular song was played:\n",
    "print(\"###\", streams_df[\"trackName\"].value_counts(), \"###\")   # test\n",
    "print(streams_df[\"trackName\"].value_counts().head(15))\n",
    "# for i in streams_df.columns :  #  test, find unique values, running the same thing as before for easy reading\n",
    "#     print(i, streams_df[i].unique( ))"
   ]
  },
  {
   "cell_type": "markdown",
   "metadata": {},
   "source": [
    "### Artists and Corresponsing Genres:\n",
    "Artist|Streams|Genre\n",
    "-|-|-\n",
    "Taylor Swift|2027|pop\n",
    "Olivia Rodrigo|906|pop\n",
    "Lana Del Rey|563|alternative\n",
    "Billie Eilish|470|electro pop\n",
    "Ariana Grande|285|dance pop\n",
    "Brynn Cartelli|234|alternative\n",
    "Ingrid Andress|176|country\n",
    "Delaney Bailey|175|indie\n",
    "Victorious Cast|173|dance pop\n",
    "5 Seconds of Summer|159|pop\n",
    "Catie Turner|140|alternative\n",
    "Nicki Minaj|138|rap pop\n",
    "Little Mix|121|dance pop\n",
    "Britney Spears|116|pop\n",
    "Pitbull|108|rap pop\n",
    "\n",
    "\n",
    "### Interesting Observations: Most Played Song\n",
    "Top Two:\n",
    "\n",
    "1. mirrorball: 152\n",
    "2. exile (feat. Bon Iver): 145\n",
    "\n",
    "The top two songs of this data set are interesting because, while Taylor Swift is my most listened to artist, both of these songs are from \n",
    "the same album: Folklore. While it is one of her most recent albums, I expected #1 and #2 to be from her Reputation album. I feel like I listen to the Reputation album more than Folklore, simply I listen to that album more when studying. \n",
    "\n",
    "\n",
    "Top 3-5:\n",
    "\n",
    "3. brutal: 139\n",
    "4. Jane: 137\n",
    "5. drivers license & epiphany (both tied): 123\n",
    "\n",
    "My 4th most listened to song, Jane by Brynn Cartelli, ranks just under my most listened to top 3 songs even though this artist's total streams were more than 3x less any of the top 5 artists. Brynn Cartelli is also a very small artist that primarily promotes her music through social media like TikTok. To be so heavily competative with Taylor Swift and Olivia Rodrigo is surprising to me. It out ranked Billie Eilish as well!\n",
    "I also think it's interesting that Mirrorball by Taylor Swift, is barely above Brutal, an Olivia Rodrigo song, since my Rodrigo streams were half of Swift's. The difference between the two songs is only 13 streams!\n",
    "\n",
    "### Another Mention:\n",
    "Many artists span multiple genres. However, I have chosen the most popular or first listed genre that was outputted by the API. In addition, some aritsts have more genres than they are listed as in the API. For example, Taylor Swift is only listed as a pop artist, dispite having a lot of country in her discography.\n",
    "\n",
    "### Simple Stats:\n",
    "Here we can see the simple stats about our data:"
   ]
  },
  {
   "cell_type": "code",
   "execution_count": 5,
   "metadata": {},
   "outputs": [
    {
     "name": "stdout",
     "output_type": "stream",
     "text": [
      "Average Listen Time Per Song (in minutes): 2.582107763883781\n",
      "Average Letters Per Song Title: 17.122839279146746\n",
      "Average Letters Per Artist Name: 11.863405663847002\n",
      "Top 15 Spotify Artists Based Off Songs Listened To:\n",
      "Taylor Swift           2027\n",
      "Olivia Rodrigo          906\n",
      "Lana Del Rey            563\n",
      "Billie Eilish           470\n",
      "Ariana Grande           285\n",
      "Brynn Cartelli          234\n",
      "Ingrid Andress          176\n",
      "Delaney Bailey          175\n",
      "Victorious Cast         173\n",
      "5 Seconds of Summer     159\n",
      "Catie Turner            140\n",
      "Nicki Minaj             138\n",
      "Little Mix              121\n",
      "Britney Spears          116\n",
      "Pitbull                 108\n",
      "Name: artistName, dtype: int64\n"
     ]
    }
   ],
   "source": [
    "import pandas as pd\n",
    "# must import this again bc won't run otherwise\n",
    "\n",
    "streams_df = pd.read_json(\"StreamingHistory.json\") \n",
    "\n",
    "# Average Listen Time Per Song\n",
    "song_arr = streams_df[\"msPlayed\"]\n",
    "song_count = 0\n",
    "length_total = 0\n",
    "for lengths in song_arr:\n",
    "    song_count += 1\n",
    "    length_total += lengths\n",
    "avg_listen_time_ms = length_total / song_count\n",
    "avg_listen_time_minutes = avg_listen_time_ms / 60000 #since there are 60,000 milliseconds in a minute!\n",
    "print(\"Average Listen Time Per Song (in minutes):\", avg_listen_time_minutes)\n",
    "\n",
    "# Longest Song\n",
    "longest_song_ms = streams_df[\"msPlayed\"].max()\n",
    "longest_song_data = streams_df.loc[streams_df[\"msPlayed\"] == longest_song_ms]\n",
    "# print(\"Longest Song Listen Time Data:\", longest_song_data)\n",
    "# I know this song isnt actually the longest, as a I know this is only 5 minute song, and\n",
    "# there are other songs nearing 9 minutes. I think it tracked this song for longer than 9 minutes due to \n",
    "# it possibly being replayed mid-song (AKA I replayed the song before it actually ended).\n",
    "\n",
    "# Shortest Song\n",
    "shortest_song_ms = streams_df[\"msPlayed\"].min()\n",
    "shortest_song_data = streams_df.loc[streams_df[\"msPlayed\"] == shortest_song_ms]\n",
    "# print(\"Shortest Song Listen Time Data:\", shortest_song_data)\n",
    "# the reason why there are so many of these is due to the fact of me skipping over a number of songs at once\n",
    "# for example, I would listen to a \"spotify radio\" for so long it would turn to songs I didnt know, so I would imediately skip them.\n",
    "\n",
    "# Average Letters Per Song Title\n",
    "track_arr = streams_df[\"trackName\"]\n",
    "title_count = 0\n",
    "total_letters = 0\n",
    "for titles in track_arr:\n",
    "    title_count += 1\n",
    "    for letters in titles:\n",
    "        total_letters += 1\n",
    "avg_letters_per_title = total_letters / title_count\n",
    "print(\"Average Letters Per Song Title:\", avg_letters_per_title)\n",
    "\n",
    "# Average Letters per Artist Name\n",
    "artist_arr = streams_df[\"artistName\"]\n",
    "artist_count = 0\n",
    "total_letters = 0\n",
    "for artist in artist_arr:\n",
    "    artist_count += 1\n",
    "    for letters in artist:\n",
    "        total_letters += 1\n",
    "avg_letters_per_artist = total_letters / title_count\n",
    "print(\"Average Letters Per Artist Name:\", avg_letters_per_artist)\n",
    "\n",
    "# Top Artists\n",
    "top_15_artists = artist_arr.value_counts().head(15)\n",
    "print(\"Top 15 Spotify Artists Based Off Songs Listened To:\")\n",
    "print(top_15_artists)"
   ]
  },
  {
   "cell_type": "markdown",
   "metadata": {},
   "source": [
    "### Cleaning:\n",
    "* Some of the things we changed:\n",
    "    1. converted the data in column `endTime` from `YYYY-MM-DD` format into numbers by week. \n",
    "    2. preformed a groupby on the data that would calculate the percent of pop in each week\n",
    "        - the percents were then put in a list for analysis in the first hypothesis testing problem\n",
    "    3. converted the units from `msPlayed`, which are millseconds, into minutes&seconds into a seperate dataframe\n",
    "        - this helped us with the second hypothesis testing and kNN classifier\n",
    "    4. Rewrote all of the files from JSON to CSV format\n",
    "        - also merged Carson and Jaylene's individual data into one master file titled: `merged_StreamingHistory.csv`"
   ]
  },
  {
   "cell_type": "code",
   "execution_count": 3,
   "metadata": {},
   "outputs": [],
   "source": [
    "import pandas as pd\n",
    "## read in the data file\n",
    "# loading the file again for ease/testing\n",
    "streams_df1 = pd.read_csv(\"StreamingHistory.csv\")   # loaded in Jaylene's data\n",
    "\n",
    "## change the date to per day, converting json to csv\n",
    "## use the classifier from last DA to change these dates to numeric?\n",
    "        # pretty sure already wrote code similar to this\n",
    "streams_df1[ \"WK\" ] = pd.to_datetime(streams_df1[\"endTime\"]).dt.isocalendar().week     #  reference: https://techtrekking.com/how-to-convert-daily-time-series-data-into-weekly-and-monthly-using-pandas-and-python/\n",
    "# print(\"***\", streams_df1, \"***\")              # test\n",
    "streams_df1[\"endTime\"] = streams_df1[\"WK\"]      # overwrite column\n",
    "streams_df1.drop([\"WK\"], axis=1)\n",
    "# print(streams_df1)              # test\n",
    "streams_df1.to_csv(\"YAY_Jaylene.csv\", index= False)     # write to csv\n",
    "streams_df1.drop(\"WK\", inplace=True, axis=1)            # drop the new column called \"wk\"\n",
    "sorted_streams = streams_df1.sort_values(by='endTime', ascending=True)\n",
    "# print(\"***\", sorted_streams)\n",
    "# streams_df1.sort(\"endTime\")\t# test\n",
    "sorted_streams.to_csv(\"YAY_Jaylene.csv\", index= False)          # kinda updating!\n",
    "## CODE REFERENCE\n",
    "## link: https://www.geeksforgeeks.org/extract-week-number-from-date-in-pandas-python/\n",
    "## another link: https://www.geeksforgeeks.org/convert-json-to-csv-in-python/"
   ]
  },
  {
   "cell_type": "code",
   "execution_count": 5,
   "metadata": {},
   "outputs": [
    {
     "name": "stdout",
     "output_type": "stream",
     "text": [
      "Total Percent of Pop forom Jaylene's Spotify:  23.596910628907686\n"
     ]
    }
   ],
   "source": [
    "import statistics\n",
    "\n",
    "## take in the cleaned data for weeks, calulate the percentage of pop listened to per weeks\n",
    "# the artists the correspond to pop are:\n",
    "# (FOR  JAYLENE DATA) = Taylor Swift, Olivia Rodrigo, 5 Seconds of Summer, Britney Spears\n",
    "\n",
    "# create a loop to walk through each data point and say \"if it's from this artist, then plus 1 to a count\"\n",
    "# take that count value, and divide it by len(data_set) * 100 = percentage of pop listened to per week\n",
    "\n",
    "## total percent of pop\n",
    "pop_artists_jaylene = [\"Taylor Swift\", \"Olivia Rodrigo\", \"5 Seconds of Summer\", \"Britney Spears\"]\n",
    "count = 0\n",
    "for i in streams_df1[\"artistName\"]:\n",
    "        if i in pop_artists_jaylene:\n",
    "                count += 1\n",
    "total_percent_of_pop = count/len(streams_df1[\"artistName\"]) * 100\n",
    "print(\"Total Percent of Pop forom Jaylene's Spotify: \", total_percent_of_pop)             # will print jaylene total = 23.59%\n",
    "\n",
    "## percent of pop by week\n",
    "# grouping by week:\n",
    "by_week = streams_df1.groupby(\"endTime\")\n",
    "# print(by_week.groups.keys())\n",
    "# print(len(by_week.groups.keys()))               # there are 32 weeks in total\n",
    "\n",
    "for group_name, group_df, in by_week:           # test, will print all the different tables made by the groupby (for J's data = 32 tables)\n",
    "\tgroup_name = group_name\t\t# this code/assigning variables looks wonky but if want the individual graphs and their names, can print them\n",
    "\tgroup_df = group_df\t\t\t# print this variable if you want the subtables\n",
    "\t# print()\n",
    "\t# 2. test to see how many of the pop aritist are in each table\n",
    "\tcount = [i for i in group_df[\"artistName\"] if i in pop_artists_jaylene]\t\t# list comprehension\n",
    "\t# print(\"***\", len(count))\t# test\n",
    "\tpercent_by_week = len(count)/len(group_df[\"artistName\"]) * 100\n",
    "\t# print(group_name, percent_by_week)\n",
    "\n",
    "\n",
    "## percentage of pop listened to per week by jaylene (rounded to three decimals): \n",
    "pop_percent_by_week = [12.477, 8.897, 19.551, 26.975, 42.222, 48.936, 45.3125, 51.672, 32.390, 35.227, 35.000, 30.285, \n",
    "\t\t\t\t\t34.117, 27.714, 31.218, 31.718, 41.954, 38.071, 29.411, 28.715, 29.191, 23.828, 25.321, 16.576, \n",
    "\t\t\t\t\t18.006, 18.945, 15.099, 15.642, 9.549, 13.243, 10.337, 9.369]\n",
    "# print(statistics.mean(pop_percent_by_week))\t\t# test, mean = 26.780265625"
   ]
  },
  {
   "cell_type": "markdown",
   "metadata": {},
   "source": [
    "### Visualizations:\n",
    "I have chosen to create a bar graph of my 15 top artists: how many times I have listened to the artist and the number of times my most listened song of theirs was played.\n",
    "Also created a pie chart showing the percent of popularity for each genre. "
   ]
  },
  {
   "cell_type": "code",
   "execution_count": 6,
   "metadata": {},
   "outputs": [
    {
     "data": {
      "image/png": "[encoded data removed]",
      "text/plain": [
       "<Figure size 432x288 with 1 Axes>"
      ]
     },
     "metadata": {
      "needs_background": "light"
     },
     "output_type": "display_data"
    },
    {
     "data": {
      "image/png": "[encoded data removed]",
      "text/plain": [
       "<Figure size 432x288 with 1 Axes>"
      ]
     },
     "metadata": {},
     "output_type": "display_data"
    }
   ],
   "source": [
    "# I know I already imported these in a previous cell but it wouldn't run if I didn't import again... :(\n",
    "import numpy as np\n",
    "import pandas as pd\n",
    "import matplotlib.pyplot as plt\n",
    "\n",
    "# Creating the Graphs:\n",
    "\n",
    "# creating a series for the top 5 artist:\n",
    "# data inputed in increasing order:\n",
    "num_of_streams = np.array([2027, 906, 563, 470, 285, 234, 176, 175, 173, 159, 140, 138, 121, 116, 108])    # total artist streams (all albums, all songs)\n",
    "num_of_genre = np.array([4, 3, 1, 3, 1, 1, 2])\n",
    "genre_for_artist = np.array([\"pop\", \"alternative\", \"electro pop\", \"dance pop\", \"country\", \"indie\", \"rap pop\"])\n",
    "artist_for_streams = [\"Taylor Swift\", \"Olivia Rodrigo\", \"Lana Del Rey\", \"Billie Eilish\", \"Ariana Grande\", \"Brynn Cartelli\", \"Ingrid Andress\", \"Delaney Bailey\", \"Victorious Cast\", \"5 Seconds of Summer\", \"Catie Turner\", \"Nicki Minaj\", \"Little Mix\", \"Britney Spears\", \"Pitbull\"]\n",
    "artist_ser = pd.Series(num_of_streams, index=artist_for_streams)\n",
    "# genre_ser = pd.Series(genre_for_artist, index=artist_for_streams)\n",
    "# print(artist_ser)   #test\n",
    "\n",
    "\n",
    "def bar_chart(x_ser, y_ser, title, graph):        \n",
    "    plt.bar(x_ser, y_ser)           \n",
    "    # beautify the plot\n",
    "    # fix overlapaping x-axis labels, put them at a slant instead of all overlapping horizontally\n",
    "    plt.xticks(rotation = 25, ha = \"right\")\n",
    "    # labeling the axes\n",
    "    plt.xlabel(\"Artist\")\n",
    "    plt.ylabel(\"Count\") \n",
    "    plt.ylim([0, y_ser.max()])\n",
    "    plt.title(title)       # to add a title\n",
    "    # print(y_ser)    #test\n",
    "    plt.tight_layout()\n",
    "    plt.savefig(graph)\n",
    "    plt.show()    # test\n",
    "\n",
    "def pie_chart(x_ser, y_ser):\n",
    "    plt.figure() # will create a new \"current\" figure\n",
    "    plt.title(\"Spotify Genre For Top 15 Artists\")\n",
    "    plt.pie(y_ser, labels=x_ser, autopct=\"%.2f%%\")      # pass in only y_ser because that has the acutal counts of the data... use x_ser as the labels, autppct = auto percent... how to automatically display percentages for pie sectors. the %% will display two decimal places i think... either way just keep the formatting of it the same\n",
    "    plt.savefig(\"Genre_Chart.png\")\n",
    "\n",
    "# Bar Graph:\n",
    "# call bar_chart \n",
    "bar_chart(artist_for_streams, artist_ser, \"Spotify Streaming Data: Most Popular Artist\", \"Most_Popular_Artist.png\")     # calling graph for total of all streams from an artist(spanning multiple albums)\n",
    "# Pie Chart:\n",
    "pie_chart(genre_for_artist, num_of_genre)"
   ]
  },
  {
   "cell_type": "markdown",
   "metadata": {},
   "source": [
    "### Hypothesis Testing:\n",
    "Is Jaylene's streaming history going to consist of 1/4 or more pop music from the given time frame of 2021-06-26 to 2022-01-29? \n",
    "- took top 15 artists and found their genre\n",
    "- pop occurs 4 times as the genre of the top artists, making it the most listened to genre\n",
    "- Note: pop doesn't include any pop spin offs... e.g. no electro pop.\n",
    "- Uses the 5 step hypothsis testing method\n",
    "- measured in weeks (32 total)\n",
    "- the data points are measured in percent. Thus, 25% = 25, 50 = 50%, etc\n",
    "\n",
    "\n",
    "1. Identify null and alternative hypothesis  \n",
    "- H0: M(pop) $\\le$ 25  \n",
    "- H1: M(pop) $>$ 25\n",
    "\n",
    "2. Level of significance  \n",
    "$ \\alpha = 0.01 $\n",
    "\n",
    "3. Select test statistic:\n",
    "test statistic: $$ t = \\frac{\\overline{x} - \\mu }{\\frac{s}{\\sqrt{n}}} $$\n",
    "\n",
    "4. Computations:\n",
    "- is a right tailed test \n",
    "- df = 32-1 = 31 (because there are 32 weeks in this data set)\n",
    "- t-table value = 2.45\n",
    "- if t-computed > 2.45 then we reject H0. If t-commputed is less than or equal to 2.45, then we cannot reject H0.\n",
    "- this results in: $$ t = \\frac{26.78 - 25}{\\frac{12.037}{\\sqrt{32}}} $$ $$ t (computed) = 0.836 $$    \n",
    "\n",
    "5. Decision:  \n",
    "At a level of 0.01 significance, we cannot reject H0 since t-computed (0.836) is not > t-critical (2.45). Therefore, Jaylene's streaming time does not consist of 25% or more of pop.\n",
    "\n",
    "- double check work with python code:"
   ]
  },
  {
   "cell_type": "code",
   "execution_count": 11,
   "metadata": {},
   "outputs": [
    {
     "name": "stdout",
     "output_type": "stream",
     "text": [
      "len 32 mean 26.780265625 std 12.037935601594446\n",
      "t: 0.836580581530322 pval 0.20461556383362506\n",
      "do not reject H0\n"
     ]
    }
   ],
   "source": [
    "from scipy import stats\n",
    "import numpy as np\n",
    "# let's check our work with scipy\n",
    "pop_percent_by_week = [12.477, 8.897, 19.551, 26.975, 42.222, 48.936, 45.3125, 51.672, 32.390, 35.227, 35.000, 30.285, \n",
    "\t\t\t\t\t34.117, 27.714, 31.218, 31.718, 41.954, 38.071, 29.411, 28.715, 29.191, 23.828, 25.321, 16.576, \n",
    "\t\t\t\t\t18.006, 18.945, 15.099, 15.642, 9.549, 13.243, 10.337, 9.369]\n",
    "len_pop_percent_by_week = len(pop_percent_by_week)\n",
    "std = np.std(pop_percent_by_week, ddof=1)\n",
    "mean = np.mean(pop_percent_by_week)\n",
    "print(\"len\", len_pop_percent_by_week,\"mean\", mean,\"std\", std)     # test\n",
    "t, pval = stats.ttest_1samp(pop_percent_by_week, 25)\n",
    "pval /= 2      # p-value = the probablity that this sample comes from this distribution\n",
    "print(\"t:\", t, \"pval\", pval)\n",
    "alpha = 0.01\n",
    "if pval < alpha:\n",
    "    print(\"reject H0\")\n",
    "else: \n",
    "    print(\"do not reject H0\")"
   ]
  },
  {
   "cell_type": "markdown",
   "metadata": {},
   "source": [
    "### Conclusion:\n",
    "Overall, my top 15 artists were heavily centered around pop music. However, based on the table of streams and the hypothesis testing above, we cannot conclude that I am more likely to listen to pop more than any other genre. Because of this, one of my initial predictions was wrong. I think it's interesting how there are many different versions of pop!\n",
    "\n",
    "However, some of my initial predictions were correct. For example, my favorite artist was clearly Taylor Swift and my thrid artist was Lana Del Rey!\n",
    "\n",
    "### Sources: \n",
    "- Dr. Sprint's API: see links in the `apotify_api_demo.py` file\n",
    "    - this source was used to get the genres for each artist\n",
    "- Spotify data request: https://support.spotify.com/us/article/data-rights-and-privacy-settings/\n",
    "    - how to request the data\n",
    "- Spotify description of received data: https://support.spotify.com/au/article/understanding-my-data/ \n",
    "    - readMe information that was useful when cleaning and sorting data"
   ]
  }
 ],
 "metadata": {
  "interpreter": {
   "hash": "30ec653a9e17fe0f2d1523c497264fc0514ec5858b26d58420c6dca6fd2d0bbd"
  },
  "kernelspec": {
   "display_name": "Python 3.9.7 ('base')",
   "language": "python",
   "name": "python3"
  },
  "language_info": {
   "codemirror_mode": {
    "name": "ipython",
    "version": 3
   },
   "file_extension": ".py",
   "mimetype": "text/x-python",
   "name": "python",
   "nbconvert_exporter": "python",
   "pygments_lexer": "ipython3",
   "version": "3.9.7"
  },
  "orig_nbformat": 4
 },
 "nbformat": 4,
 "nbformat_minor": 2
}
