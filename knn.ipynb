{
 "cells": [
  {
   "cell_type": "markdown",
   "metadata": {},
   "source": [
    "## kNN Classifier on Data\n",
    "Let's use the kNN classifier and decision tree to make a machine learning model off of our entire data set!\n",
    "\n",
    "### The point of this kNN:\n",
    "1. take in the length of the milliseconds songs from our date\n",
    "    the data that is taken in from here is the ENTIRE MERGED SET OF C & J DATA\n",
    "    about 20,000 songs\n",
    "2. will say what artist the songs is most likely to correspond to \n",
    "    artists that it will predict are the 30 artists only from both of our data sets (aka J's top 15 and C's top 15)\n",
    "3. will say what genre that length of song is most likely to be in\n",
    "4. distribution of class labels is that about 50% is pop, 50% other genres\n",
    "Note: song genre from: https://getgenre.com/\n",
    "\n",
    "### Why is the length of the song + predicted artist cool to predict!\n",
    "Rember that both Carson and Jaylene had their top genre being pop, however before analyzing the data, we both felt that we don't listen to pop the most. \n",
    "\n",
    "In addition, our top songs were not in pop. For example, we had top songs from mostly indie (mirrorball) and rap (good life) genres. Our top songs are acutally both 3:30 minutes long! "
   ]
  },
  {
   "cell_type": "code",
   "execution_count": null,
   "metadata": {},
   "outputs": [],
   "source": [
    "## coding the classifer!\n",
    "import pandas as pd     # already imported but code won't run w/o this\n",
    "import numpy as np\n",
    "from sklearn.preprocessing import MinMaxScaler      \n",
    "from sklearn.neighbors import KNeighborsClassifier     \n",
    "\n",
    "## read in file\n",
    "df = pd.read_csv(\"merged_data.csv\")\n",
    "print(df)\n",
    "\n",
    "\n",
    "# Making training sets:\n",
    "# X: a feature matrix (2D data structure where rows are instances and columns are attributes AKA features)\n",
    "# class column is stroes separately in y\n",
    "# y: class column (1D data structure)\n",
    "# AKA class vector, target variable, etc.\n",
    "# _train and _test in variable names denote out training and testing sets repectively\n",
    "X_train = df.drop([\"artistName\", \"endTime\", \"trackName\"], axis=1)     # the only column that should remain is the msplayed one since we will be predicting based on time of song; to remove class column and any others that we dont want to use\n",
    "y_train = df[\"artistName\"]\n",
    "# store x and y train seperately because sci_kit requires it\n",
    "# print(X_train)\n",
    "# print(y_train)"
   ]
  },
  {
   "cell_type": "code",
   "execution_count": null,
   "metadata": {},
   "outputs": [],
   "source": [
    "## Apply scaling:\n",
    "scaler = MinMaxScaler()\n",
    "scaler.fit(X_train)     # in order to fit our scalar, returns a matrix via 2D numpy array\n",
    "X_train_scaled = scaler.transform(X_train)  # transform fitted stuffs\n",
    "# typically fit and transform are combined fit_transform()\n",
    "# print(X_train_scaled)\n",
    "\n",
    "X_test = [[312000]]     # start of the test set processing, use your test info, needs to be 2D bc is a list of instances\n",
    "X_test_scaled = scaler.transform(X_test)\n",
    "# print(X_test_scaled)"
   ]
  },
  {
   "cell_type": "code",
   "execution_count": null,
   "metadata": {},
   "outputs": [],
   "source": [
    "# Use kNN!\n",
    "from sklearn.neighbors import KNeighborsClassifier\n",
    "\n",
    "# train/build/fit\n",
    "knn_clf = KNeighborsClassifier(n_neighbors=10, metric=\"euclidean\")      # default k = 5, we want k=3 and metric=euclidean, create knn classifier (clf is the proper syntax for variables when you create them)\n",
    "knn_clf.fit(X_train_scaled, y_train)\n",
    "\n",
    "# predict\n",
    "y_predicted = knn_clf.predict(X_test_scaled)\n",
    "print(y_predicted)\n"
   ]
  },
  {
   "cell_type": "code",
   "execution_count": null,
   "metadata": {},
   "outputs": [],
   "source": [
    "## Classifying the Data:\n",
    "## classifying the artists into their genre type:\n",
    "pop_artists = [\"Taylor Swift\", \"Olivia Rodrigo\", \"5 Seconds of Summer\", \"Britney Spears\", \"The Weeknd\", \"Rihanna\", \"Katy Perry\", \"Maroon 5\", \"B.o.B:Pop\"]\n",
    "alternative = [\"Lana Del Rey\", \"Brynn Cartelli\", \"Catie Turner\", \"Joji\"]\n",
    "electro_pop = [\"Billie Eilish\"]\n",
    "dance_pop = [\"Ariana Grande\", \"Victorious Cast\", \"Little Mix\"]\n",
    "country = [\"Ingrid Andress\"]\n",
    "indie = [\"Delaney Bailey\"]\n",
    "rap_pop = [\"Nicki Minaj\", \"Pitbull\"]\n",
    "rap = [\"Kanye West\", \"J. Cole\", \"Kid Cudi\", \"Drake\"]\n",
    "hip_hop = [\"Mac Miller\", \"JAY-Z\", \"Aminé\"]\n",
    "rock = [\"Cage The Elephant\"]\n",
    "alt_pop_rock = [\"Dominic Fike\"]\n",
    "\n",
    "\n",
    "# take in the artist and say what kind of genre corresponds to:\n",
    "if y_predicted in pop_artists:\n",
    "    print(\"Genre: POP\")\n",
    "\n",
    "if y_predicted in alternative:\n",
    "    print(\"Genre: ALTERNATIVE\")\n",
    "\n",
    "if y_predicted in electro_pop:\n",
    "    print(\"Genre: ELECTRO POP\")\n",
    "\n",
    "if y_predicted in dance_pop:\n",
    "    print(\"Genre: DANCE POP\")\n",
    "\n",
    "if y_predicted in country:\n",
    "    print(\"Genre: COUNTRY\")\n",
    "\n",
    "if y_predicted in indie:\n",
    "    print(\"Genre: INDIE\")\n",
    "\n",
    "if y_predicted in rap_pop:\n",
    "    print(\"Genre: RAP POP\")\n",
    "\n",
    "if y_predicted in rap:\n",
    "    print(\"Genre: RAP\")\n",
    "\n",
    "if y_predicted in hip_hop:\n",
    "    print(\"Genre: HIP HOP\")\n",
    "\n",
    "if y_predicted in rock:\n",
    "    print(\"Genre: ROCK\")\n",
    "\n",
    "if y_predicted in alt_pop_rock:\n",
    "    print(\"Genre: ALTERNATIVE POP ROCK\")\n",
    "\n",
    "else:\n",
    "    print(\"NaN\")"
   ]
  },
  {
   "cell_type": "markdown",
   "metadata": {},
   "source": [
    "## kNN Results:\n",
    "\n",
    "From our kNN classifier test, we can see that when we test the mean length of our songs (164000 ms) we get \"ALTERNATIVE\" and the artist this most likely corresponds to is Joji.\n",
    "\n",
    "Some other fun predicting tests that we ran were testing the different standard deviations away from the mean:\n",
    "Stand Dev|Test Stat (ms)|Predicted Genre|Predicted Artist\n",
    "-|-|-|-\n",
    "-2|16000|POP|Taylor Swift\n",
    "-1|90000|ALTERNATIVE|Joji\n",
    "mean|164000|ALTERNATIVE|Joji\n",
    "1|238000|NaN|OneRepublic\n",
    "2|312000|RAP|Kanye West\n",
    "\n",
    "\n",
    "This is interesting because Jaylene's top song had a length of about 192000 milliseconds (alternative/folk). And Carson's top song had a length of about 210000 milliseconds (hip hop)top genre overall was Pop. However, by the different standard deviations away from the mean, only one of the genres is predicted to be pop, and this is the second standard dev. away from the mean at 16000 milliseconds. "
   ]
  },
  {
   "cell_type": "markdown",
   "metadata": {},
   "source": [
    "## Conclusion\n",
    "After looking at this data, although close, we don't believe this representation is completely accurate. Beforehand and after reading the article about how there are more short, hit-pop songs nowadays, we would presume that pop songs would be shorter. However, using our hypothesis testing, we come to the conlcusion that we must reject our H0, as the average length of pop songs actually turned out to be longer than everything else in our domain set!"
   ]
  }
 ],
 "metadata": {
  "interpreter": {
   "hash": "30ec653a9e17fe0f2d1523c497264fc0514ec5858b26d58420c6dca6fd2d0bbd"
  },
  "kernelspec": {
   "display_name": "Python 3.9.7 ('base')",
   "language": "python",
   "name": "python3"
  },
  "language_info": {
   "codemirror_mode": {
    "name": "ipython",
    "version": 3
   },
   "file_extension": ".py",
   "mimetype": "text/x-python",
   "name": "python",
   "nbconvert_exporter": "python",
   "pygments_lexer": "ipython3",
   "version": "3.9.7"
  },
  "orig_nbformat": 4
 },
 "nbformat": 4,
 "nbformat_minor": 2
}
