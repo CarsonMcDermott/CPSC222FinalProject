{
 "cells": [
  {
   "cell_type": "markdown",
   "metadata": {},
   "source": [
    "## Carson's Spotify Data\n",
    "## From 2021-06-26 through 2022-01-29\n",
    "\n",
    "Some quick predictions:\n",
    "\n",
    "- Top Artist: Kanye West\n",
    "- Second or thrid place: Mac Miller or Joji\n",
    "- Most popular genre (determined by api): Pop\n",
    "- **Note: This data is not album specific! Thus, aritsts with more songs may be favored over smaller artists**"
   ]
  },
  {
   "cell_type": "markdown",
   "metadata": {},
   "source": [
    "First, loading the data is simple:"
   ]
  },
  {
   "cell_type": "code",
   "execution_count": 39,
   "metadata": {},
   "outputs": [],
   "source": [
    "import numpy as np\n",
    "import pandas as pd\n",
    "import matplotlib.pyplot as plt\n",
    "\n",
    "#load JSON file into pandas DataFrame\n",
    "streams_df = pd.read_json(\"carson_StreamingHistory.json\")   \n",
    "# print(streams_df)   # test"
   ]
  },
  {
   "cell_type": "markdown",
   "metadata": {},
   "source": [
    "### Exploring the Data:\n",
    "Using the Pandas dataframe, we can look at the \"trackName\" column to find how often an artist was played. The higher the value, the more streams this artist had on my spotify!"
   ]
  },
  {
   "cell_type": "code",
   "execution_count": 40,
   "metadata": {},
   "outputs": [
    {
     "name": "stdout",
     "output_type": "stream",
     "text": [
      "Good Life                        38\n",
      "Runaway                          33\n",
      "SMILE                            31\n",
      "Ni**as In Paris                  31\n",
      "Tongue Tied                      28\n",
      "Kids                             28\n",
      "All Falls Down                   27\n",
      "Peach                            27\n",
      "Heartless                        27\n",
      "Waves                            27\n",
      "The Count (feat. Wiz Khalifa)    26\n",
      "The Spins                        26\n",
      "Kilby Girl                       26\n",
      "I Wonder                         25\n",
      "Work Out                         25\n",
      "Name: trackName, dtype: int64\n"
     ]
    }
   ],
   "source": [
    "# We can use .value_counts() on a given column to see how many times an artist or song has occured\n",
    "# To find the top 15 songs, we use .value_counts().head(15) using the \"trackName\" column\n",
    "\n",
    "print(streams_df[\"trackName\"].value_counts().head(15))"
   ]
  },
  {
   "cell_type": "markdown",
   "metadata": {},
   "source": [
    "#### We can also do this with the \"artistName\" column!"
   ]
  },
  {
   "cell_type": "code",
   "execution_count": 41,
   "metadata": {},
   "outputs": [
    {
     "name": "stdout",
     "output_type": "stream",
     "text": [
      "Kanye West           483\n",
      "Mac Miller           473\n",
      "Joji                 212\n",
      "JAY-Z                149\n",
      "J. Cole               96\n",
      "Kid Cudi              95\n",
      "Cage The Elephant     77\n",
      "The Weeknd            74\n",
      "Drake                 70\n",
      "Aminé                 67\n",
      "Dominic Fike          60\n",
      "Rihanna               56\n",
      "Katy Perry            53\n",
      "Maroon 5              48\n",
      "B.o.B                 48\n",
      "Name: artistName, dtype: int64\n"
     ]
    }
   ],
   "source": [
    "print(streams_df[\"artistName\"].value_counts().head(15))"
   ]
  },
  {
   "cell_type": "markdown",
   "metadata": {},
   "source": [
    "## Data Observations\n",
    "\n",
    "My Top songs include:\n",
    "- Good Life, by Kanye West\n",
    "- Runaway, by Kanye West\n",
    "\n",
    "These two songs, interestingly enough, are both sang by Kanye West, also who I predicted to be my top artist. And, after looking at the \"artistName\" column, you can see that Kanye West in in fact my top artist, barely passing Mac Miller. This is something I thought would happen, as i think over the summer and into this current school year, I went through a \"Kanye\" phase where alot of the msuic that I listened to was made by Kanye."
   ]
  },
  {
   "cell_type": "markdown",
   "metadata": {},
   "source": [
    "## Stats\n",
    "* Here are various stats regarding my data!"
   ]
  },
  {
   "cell_type": "code",
   "execution_count": 42,
   "metadata": {},
   "outputs": [
    {
     "name": "stdout",
     "output_type": "stream",
     "text": [
      "Average Listen Time Per Song (in minutes): 183465.76430824696\n",
      "Average Listen Time Per Song (in minutes): 3.0577627384707826\n",
      "Longest Song Listen Time Data:      endTime  artistName  trackName  msPlayed\n",
      "873       26  Mac Miller  Good News    666030\n",
      "Shortest Song Listen Time Data:       endTime               artistName  \\\n",
      "739         4            Freddie Gibbs   \n",
      "819        26             Alan Jackson   \n",
      "822        26  John Michael Montgomery   \n",
      "827        26             Randy Travis   \n",
      "831        26            Brooks & Dunn   \n",
      "846        26           Jo Dee Messina   \n",
      "908        26             Shania Twain   \n",
      "1007       27                   Future   \n",
      "1015       27                   DaBaby   \n",
      "1025       27                  J. Cole   \n",
      "1054       27                Lil Nas X   \n",
      "1117       27                   DaBaby   \n",
      "1119       27                Grouplove   \n",
      "1129       27             Fall Out Boy   \n",
      "1161       27                 SG Lewis   \n",
      "1173       27        Empire of the Sun   \n",
      "4224       46                 Kid Cudi   \n",
      "5383       49                  Kid Ink   \n",
      "6514       52              Still Woozy   \n",
      "6516       52          Briston Maroney   \n",
      "\n",
      "                                              trackName  msPlayed  \n",
      "739   Something to Rap About (feat. Tyler, The Creator)         0  \n",
      "819                                      Livin' On Love         0  \n",
      "822                                      Life's a Dance         0  \n",
      "827                                If I Didn't Have You         0  \n",
      "831                                    Hard Workin' Man         0  \n",
      "846                                             Bye-Bye         0  \n",
      "908                                No One Needs To Know         0  \n",
      "1007                         Life Is Good (feat. Drake)         0  \n",
      "1015                                              VIBEZ         0  \n",
      "1025                                     No Role Modelz         0  \n",
      "1054                              Panini - DaBaby Remix         0  \n",
      "1117                                           Number 2         0  \n",
      "1119                                        Tongue Tied         0  \n",
      "1129                                          Centuries         0  \n",
      "1161                                          Chemicals         0  \n",
      "1173                                       High And Low         0  \n",
      "4224                               Soundtrack 2 My Life         0  \n",
      "5383                                Money and the Power         0  \n",
      "6514                                         Goodie Bag         0  \n",
      "6516                                      Under My Skin         0  \n",
      "Average Letters Per Song Title: 15.631515697761754\n",
      "Average Letters Per Artist Name: 9.774523058434731\n",
      "My Top 15 Spotify Artists Based Off Songs Listened To:\n",
      "Kanye West           483\n",
      "Mac Miller           473\n",
      "Joji                 212\n",
      "JAY-Z                149\n",
      "J. Cole               96\n",
      "Kid Cudi              95\n",
      "Cage The Elephant     77\n",
      "The Weeknd            74\n",
      "Drake                 70\n",
      "Aminé                 67\n",
      "Dominic Fike          60\n",
      "Rihanna               56\n",
      "Katy Perry            53\n",
      "Maroon 5              48\n",
      "B.o.B                 48\n",
      "Name: artistName, dtype: int64\n"
     ]
    }
   ],
   "source": [
    "##########################################\n",
    "\n",
    "# First let's import the data\n",
    "json_df = pd.read_csv(\"carson_StreamingHistory.csv\")\n",
    "\n",
    "# Now to compute stats!\n",
    "\n",
    "# Average Listen Time Per Song\n",
    "song_arr = json_df[\"msPlayed\"]\n",
    "song_count = 0\n",
    "length_total = 0\n",
    "for lengths in song_arr:\n",
    "    song_count += 1\n",
    "    length_total += lengths\n",
    "avg_listen_time_ms = length_total / song_count\n",
    "print(\"Average Listen Time Per Song (in minutes):\", avg_listen_time_ms)\n",
    "avg_listen_time_minutes = avg_listen_time_ms / 60000 #since there are 60,000 milliseconds in a minute!\n",
    "print(\"Average Listen Time Per Song (in minutes):\", avg_listen_time_minutes)\n",
    "\n",
    "# Longest Song\n",
    "longest_song_ms = json_df[\"msPlayed\"].max()\n",
    "longest_song_data = json_df.loc[json_df[\"msPlayed\"] == longest_song_ms]\n",
    "print(\"Longest Song Listen Time Data:\", longest_song_data)\n",
    "# I know this song isnt actually the longest, as a I know this is only 5 minute song, and\n",
    "# there are other songs nearing 9 minutes. I think it tracked this song for longer than 9 minutes due to \n",
    "# it possibly being replayed mid-song (AKA I replayed the song before it actually ended).\n",
    "\n",
    "# Shortest Song\n",
    "shortest_song_ms = json_df[\"msPlayed\"].min()\n",
    "shortest_song_data = json_df.loc[json_df[\"msPlayed\"] == shortest_song_ms]\n",
    "print(\"Shortest Song Listen Time Data:\", shortest_song_data)\n",
    "# the reason why there are so many of these is due to the fact of me skipping over a number of songs at once\n",
    "# for example, I would listen to a \"spotify radio\" for so long it would turn to songs I didnt know, so I would imediately skip them.\n",
    "\n",
    "# Average Letters Per Song Title\n",
    "track_arr = json_df[\"trackName\"]\n",
    "title_count = 0\n",
    "total_letters = 0\n",
    "for titles in track_arr:\n",
    "    title_count += 1\n",
    "    for letters in titles:\n",
    "        total_letters += 1\n",
    "avg_letters_per_title = total_letters / title_count\n",
    "print(\"Average Letters Per Song Title:\", avg_letters_per_title)\n",
    "\n",
    "# Average Letters per Artist Name\n",
    "artist_arr = json_df[\"artistName\"]\n",
    "artist_count = 0\n",
    "total_letters = 0\n",
    "for artist in artist_arr:\n",
    "    artist_count += 1\n",
    "    for letters in artist:\n",
    "        total_letters += 1\n",
    "avg_letters_per_artist = total_letters / title_count\n",
    "print(\"Average Letters Per Artist Name:\", avg_letters_per_artist)\n",
    "\n",
    "# Top Artists\n",
    "top_15_artists = artist_arr.value_counts().head(15)\n",
    "print(\"My Top 15 Spotify Artists Based Off Songs Listened To:\")\n",
    "print(top_15_artists)"
   ]
  },
  {
   "cell_type": "code",
   "execution_count": 43,
   "metadata": {},
   "outputs": [
    {
     "name": "stderr",
     "output_type": "stream",
     "text": [
      "C:\\Users\\carso\\AppData\\Local\\Temp/ipykernel_21040/1981190179.py:40: FutureWarning: casting datetime64[ns] values to int64 with .astype(...) is deprecated and will raise in a future version. Use .view(...) instead.\n",
      "  df.astype('int64').dtypes\n",
      "C:\\Users\\carso\\AppData\\Local\\Temp/ipykernel_21040/1981190179.py:43: FutureWarning: Series.dt.weekofyear and Series.dt.week have been deprecated.  Please use Series.dt.isocalendar().week instead.\n",
      "  weekNumber = df['endTime'].dt.week\n"
     ]
    }
   ],
   "source": [
    "## read the data into a Dataframe\n",
    "streams_df1 = pd.read_csv(\"carson_StreamingHistory.csv\")   # loaded in Jaylene's data\n",
    "\n",
    "## change the date to per day\n",
    "## use the classifier from last DA to change these dates to numeric?\n",
    "        # pretty sure already wrote code similar to this\n",
    "streams_df1[ \"WK\" ] = pd.to_datetime(streams_df1[\"endTime\"]).dt.isocalendar().week     #  reference: https://techtrekking.com/how-to-convert-daily-time-series-data-into-weekly-and-monthly-using-pandas-and-python/\n",
    "# print(\"***\", streams_df1, \"***\")              # test\n",
    "# streams_df1[\"endTime\"] = streams_df1[\"WK\"]\n",
    "# streams_df1.drop([\"WK\"], axis=1)\n",
    "# # print(streams_df1)              # test\n",
    "# # streams_df1.to_csv(\"YAY_Carson.csv\", index= False)\n",
    "# streams_df1.drop(\"WK\", inplace=True, axis=1)\n",
    "sorted_streams = streams_df1.sort_values(by='endTime', ascending=True)\n",
    "# print(\"***\", sorted_streams)\n",
    "# # streams_df1.sort(\"endTime\")\t# test\n",
    "# # sorted_streams.to_csv(\"YAY_Jaylene.csv\", index= False)\n",
    "# sorted_streams.to_csv(\"Updated_YAY_merged.csv\", index= False)\n",
    "df = pd.read_csv(\"carson_StreamingHistory.csv\")\n",
    "sorted_df = df.sort_values(by=\"endTime\", ascending=True)\n",
    "# print(sorted_df)\n",
    "sorted_df.to_csv(\"carson_StreamingHistory.csv\", index=False)\n",
    "# streams_df1.drop(\"endTime\", inplace=True, axis=1)\n",
    "# streams_df1.to_csv(\"YAY_Carson.csv\", index= False)\n",
    "## CODE REFERENCE\n",
    "## link: https://www.geeksforgeeks.org/extract-week-number-from-date-in-pandas-python/\n",
    "## another link: https://www.geeksforgeeks.org/convert-json-to-csv-in-python/\n",
    "\n",
    "# importing pandas as pd\n",
    "# import pandas as pd \n",
    "  \n",
    "# # creating a dictionary containing a date\n",
    "dict = streams_df1[\"endTime\"]\n",
    "  \n",
    "# # converting the dictionary to a dataframe\n",
    "df = pd.DataFrame.from_dict(dict)\n",
    "  \n",
    "# # converting the date to the required format\n",
    "df['endTime'] = pd.to_datetime(df['endTime'], errors ='coerce')\n",
    "df.astype('int64').dtypes\n",
    "  \n",
    "# # extracting the week from the date\n",
    "weekNumber = df['endTime'].dt.week\n",
    "# print(weekNumber)\n",
    "  \n",
    "# print(weekNumber)\n",
    "# df[\"endTime\"] = weekNumber\n",
    "# print(df[\"endTime\"])\n",
    "\n",
    "# streams_df2 = streams_df1.to_csv(\"StreamingHistory_updated.csv\", index = False)\n",
    "# ## CODE REFERENCE\n"
   ]
  },
  {
   "cell_type": "markdown",
   "metadata": {},
   "source": [
    "## Cleaning:\n",
    "* Some of the things we changed:\n",
    "1. converted the data in column endTime from YYYY-MM-DD format into numbers by week.\n",
    "1. preformed a groupby on the data that would calculate the percent of pop in each week\n",
    "    - the percents were then put in a list for analysis in the first hypothesis testing problem\n",
    "1. converted the units from msPlayed, which are millseconds, into minutes&seconds into a seperate dataframe\n",
    "    - this helped us with the second hypothesis testing and kNN classifier\n",
    "1. Rewrote all of the files from JSON to CSV format\n",
    "    - also merged Carson and Jaylene's individual data into one master file titled: merged_StreamingHistory.csv\n",
    "\n",
    "## Visualizations:\n",
    "I have chosen to create a bar graph of my 15 top artists: how many times I have listened to the artist and the number of times my most listened song of theirs was played."
   ]
  },
  {
   "cell_type": "code",
   "execution_count": 1,
   "metadata": {},
   "outputs": [
    {
     "ename": "NameError",
     "evalue": "name 'np' is not defined",
     "output_type": "error",
     "traceback": [
      "\u001b[1;31m---------------------------------------------------------------------------\u001b[0m",
      "\u001b[1;31mNameError\u001b[0m                                 Traceback (most recent call last)",
      "\u001b[1;32m~\\AppData\\Local\\Temp/ipykernel_25864/564725438.py\u001b[0m in \u001b[0;36m<module>\u001b[1;34m\u001b[0m\n\u001b[0;32m      3\u001b[0m \u001b[1;31m# creating a series for the top 5 artist:\u001b[0m\u001b[1;33m\u001b[0m\u001b[1;33m\u001b[0m\u001b[0m\n\u001b[0;32m      4\u001b[0m \u001b[1;31m# data inputed in increasing order:\u001b[0m\u001b[1;33m\u001b[0m\u001b[1;33m\u001b[0m\u001b[0m\n\u001b[1;32m----> 5\u001b[1;33m \u001b[0mnum_of_streams\u001b[0m \u001b[1;33m=\u001b[0m \u001b[0mnp\u001b[0m\u001b[1;33m.\u001b[0m\u001b[0marray\u001b[0m\u001b[1;33m(\u001b[0m\u001b[1;33m[\u001b[0m\u001b[1;36m483\u001b[0m\u001b[1;33m,\u001b[0m \u001b[1;36m487\u001b[0m\u001b[1;33m,\u001b[0m \u001b[1;36m212\u001b[0m\u001b[1;33m,\u001b[0m \u001b[1;36m149\u001b[0m\u001b[1;33m,\u001b[0m \u001b[1;36m96\u001b[0m\u001b[1;33m,\u001b[0m \u001b[1;36m95\u001b[0m\u001b[1;33m,\u001b[0m \u001b[1;36m77\u001b[0m\u001b[1;33m,\u001b[0m \u001b[1;36m74\u001b[0m\u001b[1;33m,\u001b[0m \u001b[1;36m70\u001b[0m\u001b[1;33m,\u001b[0m \u001b[1;36m67\u001b[0m\u001b[1;33m,\u001b[0m \u001b[1;36m60\u001b[0m\u001b[1;33m,\u001b[0m \u001b[1;36m56\u001b[0m\u001b[1;33m,\u001b[0m \u001b[1;36m53\u001b[0m\u001b[1;33m,\u001b[0m \u001b[1;36m48\u001b[0m\u001b[1;33m,\u001b[0m \u001b[1;36m48\u001b[0m\u001b[1;33m]\u001b[0m\u001b[1;33m)\u001b[0m   \u001b[1;31m# total artist streams (all albums, all songs)\u001b[0m\u001b[1;33m\u001b[0m\u001b[1;33m\u001b[0m\u001b[0m\n\u001b[0m\u001b[0;32m      6\u001b[0m \u001b[1;31m# Jaylene stats:\u001b[0m\u001b[1;33m\u001b[0m\u001b[1;33m\u001b[0m\u001b[0m\n\u001b[0;32m      7\u001b[0m \u001b[1;31m# [4, 3, 1, 3, 1, 1, 2]\u001b[0m\u001b[1;33m\u001b[0m\u001b[1;33m\u001b[0m\u001b[0m\n",
      "\u001b[1;31mNameError\u001b[0m: name 'np' is not defined"
     ]
    }
   ],
   "source": [
    "# Creating the Graphs:\n",
    "\n",
    "# creating a series for the top 5 artist:\n",
    "# data inputed in increasing order:\n",
    "num_of_streams = np.array([483, 487, 212, 149, 96, 95, 77, 74, 70, 67, 60, 56, 53, 48, 48])   # total artist streams (all albums, all songs)\n",
    "# Jaylene stats: \n",
    "# [4, 3, 1, 3, 1, 1, 2]\n",
    "# [\"pop\", \"alternative\", \"electro pop\", \"dance pop\", \"country\", \"indie\", \"rap pop\"]\n",
    "# Carson stats:\n",
    "# [4, 3, 1, 1, 5, 1]\n",
    "# [\"4rap\", \"3hiphop\", \"1alternative\", \"1rock\", \"5pop\", \"1alternative pop rock\"]\n",
    "# Merged Data Stats:\n",
    "# [\"pop\", \"alternative\", \"electro pop\", \"dance pop\", \"country\" \"indie\", \"rap pop\", \"rap\", \"hip hop\", \"rock\" \"alternative pop rock\"]\n",
    "# [9, 4, 1, 3, 1, 1, 2, 4, 3, 1, 1]\n",
    "\n",
    "num_of_genre = np.array([4, 3, 1, 1, 5, 1])\n",
    "genre_for_artist = np.array([\"4rap\", \"3hiphop\", \"1alternative\", \"1rock\", \"5pop\", \"1alternative pop rock\"])\n",
    "artist_for_streams = [\"Kanye West:Rap\", \"Mac Miller:Hip-Hop\", \"Joji:Alternative\", \"JAY-Z:Hip-Hop\", \"J. Cole:Rap\", \"Kid Cudi:Rap\", \"Cage The Elephant:Rock\", \"The Weeknd:Pop\", \"Drake:Rap\", \"Aminé:Hiphop\", \"Dominic Fike:AltPopRock\", \"Rihanna:Pop\", \"Katy Perry:Pop\", \"Maroon 5:Pop\", \"B.o.B:Pop\"] \n",
    "artist_ser = pd.Series(num_of_streams, index=artist_for_streams)\n",
    "# genre_ser = pd.Series(genre_for_artist, index=artist_for_streams)\n",
    "\n",
    "# Let's visualize some Data!\n",
    "import matplotlib.pyplot as plt\n",
    "# Let's start with my top artist and the amount of songs each have\n",
    "\n",
    "plt.figure()\n",
    "plt.xlabel(\"Artists\", color=\"white\")\n",
    "plt.xticks(rotation=55, ha=\"right\", color=\"white\")\n",
    "plt.yticks(color=\"white\")\n",
    "plt.ylabel(\"Total Songs Played\", color=\"white\")\n",
    "plt.title(\"Top 15 Artists/Songs Listened To\", color=\"white\")\n",
    "# this creates a new current figure, instead of adding to the previou one\n",
    "plt.bar(top_15_artists.index, top_15_artists)\n",
    "# plt.savefig(\"bar_example.png\")\n",
    "\n",
    "def pie_chart(x_ser, y_ser):\n",
    "    plt.figure() # will create a new \"current\" figure\n",
    "    plt.title(\"Spotify Genre For Top 15 Artists\")\n",
    "    plt.pie(y_ser, labels=x_ser, autopct=\"%.2f%%\")      # pass in only y_ser because that has the acutal counts of the data... use x_ser as the labels, autppct = auto percent... how to automatically display percentages for pie sectors. the %% will display two decimal places i think... either way just keep the formatting of it the same\n",
    "    # plt.savefig(\"Genre_Chart.png\")\n",
    "\n",
    "# Bar Graph:\n",
    "# call bar_chart \n",
    "# plt.bar(artist_for_streams, artist_ser, \"Spotify Streaming Data: Most Popular Artist\", \"Most_Popular_Artist.png\")     # calling graph for total of all streams from an artist(spanning multiple albums)\n",
    "# Pie Chart:\n",
    "pie_chart(genre_for_artist, num_of_genre)"
   ]
  },
  {
   "cell_type": "markdown",
   "metadata": {},
   "source": [
    "## Hypothesis 1:\n",
    "* I want to test and see if I listen to more Mac Miller songs than I do"
   ]
  },
  {
   "cell_type": "markdown",
   "metadata": {},
   "source": [
    "### Hypothesis Testing:\n",
    "Is Carson's streaming history going to have 1/4 or more pop music from the given time frame of 2021-06-26 to 2022-01-29?\n",
    "\n",
    "- I took top the 15 artists and found their  each of their genres! (Using Gina's spotifty API :) )\n",
    "- Pop occurs 5 times as the genre of the top artists, making it the most listened to genre from my top 15 artists\n",
    "- Note: the pop genre doesn't include any pop spin offs... e.g. no alternative pop, hip-hop pop\n",
    "- Uses the 5 step hypothsis testing method\n",
    "- Measured in weeks (32 total)\n",
    "- The data points are measured in percent. Thus, 25% = 25, 50 = 50%, etc\n",
    "- Identify null and alternative hypothesis\n",
    "- H0: M(pop) $\\le$ 25\n",
    "- H1: M(pop) $\\gt$ 25\n",
    "\n",
    "Level of significance\n",
    "\n",
    "\n",
    "2. Level of significance  \n",
    "$ \\alpha = 0.01 $\n",
    "\n",
    "3. Select test statistic:\n",
    "test statistic: $$ t = \\frac{\\overline{x} - \\mu }{\\frac{s}{\\sqrt{n}}} $$\n",
    "\n",
    "4. Computations:\n",
    "- is a right-tailed test\n",
    "- df = 32-1 = 31 (because there are 32 weeks in thed data)\n",
    "- t-table value = 2.45\n",
    "- if t-computed > 2.45 then we reject H0. If t-commputed is less than or equal to 2.45, then we cannot reject H0.\n",
    "- this results in: $$ t = \\frac{25.027-25}{\\frac{9.118}{\\sqrt{32}}} $$ $$ t (computed) = 0.04 $$`\n",
    "5. Decision:  \n",
    "At a level of 0.01 significance, we cannot reject H0 since t-computed (0.04) < t-critical (2.45). Thus we cannot say that pop is more likely to be listened to.  "
   ]
  },
  {
   "cell_type": "code",
   "execution_count": 46,
   "metadata": {},
   "outputs": [
    {
     "name": "stdout",
     "output_type": "stream",
     "text": [
      "32\n",
      "std: 9.11833270779037\n",
      "mean: 25.02728125\n",
      "t: 0.016924810701645247 pval 0.4933025309501572\n",
      "do not reject H0\n"
     ]
    }
   ],
   "source": [
    "from scipy import stats\n",
    "import numpy as np\n",
    "# let's check our work with scipy\n",
    "pop_percent_by_week = [13.376, 10.807, 28.652, 22.966, 32.538, 25.978, 23.467, 28.849, 35.859, 49.237, 38.684, 32.687, \n",
    "\t\t\t\t\t   35.485, 28.364, 29.274, 23.894, 30.578, 34.583, 25.485, 24.375, 29.538, 21.394, 23.847, 23.789, \n",
    "                       20.784, 25.896, 20.283, 12.385, 10.549, 9.693, 14.687, 12.89]\n",
    "num_of_genre = np.array(pop_percent_by_week)\n",
    "len_num_of_genre = len(num_of_genre)\n",
    "print(len_num_of_genre)\n",
    "std = np.std(num_of_genre, ddof=1)\n",
    "print(\"std:\", std)\n",
    "mean = np.mean(num_of_genre)\n",
    "print(\"mean:\", mean)\n",
    "t, pval = stats.ttest_1samp(num_of_genre, 25)\n",
    "pval /= 2 # p-value = the probablity that this sample comes from this distribution\n",
    "print(\"t:\", t, \"pval\", pval)\n",
    "alpha = 0.01\n",
    "if pval < alpha:\n",
    "    print(\"reject H0\")\n",
    "else: \n",
    "    print(\"do not reject H0\")"
   ]
  },
  {
   "cell_type": "markdown",
   "metadata": {},
   "source": [
    "### Conclusion:\n",
    "\n",
    "After viewing the data, I am not suprised that most of my streaming history is not related back to pop, less than 25% to be more precise. I originally thought that pop would not come out on top, and something like rap would, and ultimately I was correct. After calculating our t(computed), we can confidently say that I can reject the null hypothesis."
   ]
  }
 ],
 "metadata": {
  "interpreter": {
   "hash": "13444eeae3222260d5f4c5ca1a52742249bd23a9f11f060f60412bdacd0f3829"
  },
  "kernelspec": {
   "display_name": "Python 3.9.7 ('base')",
   "language": "python",
   "name": "python3"
  },
  "language_info": {
   "codemirror_mode": {
    "name": "ipython",
    "version": 3
   },
   "file_extension": ".py",
   "mimetype": "text/x-python",
   "name": "python",
   "nbconvert_exporter": "python",
   "pygments_lexer": "ipython3",
   "version": "3.9.7"
  },
  "orig_nbformat": 4
 },
 "nbformat": 4,
 "nbformat_minor": 2
}
