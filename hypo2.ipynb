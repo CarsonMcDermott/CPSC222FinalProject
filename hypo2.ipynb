{
 "cells": [
  {
   "cell_type": "markdown",
   "metadata": {},
   "source": [
    "## Hypothesis Testing 2 and kNN Classifier\n",
    "\n",
    "We will use the streaming data to test: Depending on the genre of the song, can we guess the length of the song will be\n",
    "\n",
    "Predictions:\n",
    "- depending on pop, both of our top genres, we think that the songs will be shorter\n",
    "- theres is research that shows that pop songs and radio hits have to be shorter to catch people's attention\n",
    "    - article here: https://www.nme.com/blogs/nme-blogs/billboard-100-shorter-explicit-2054269\n",
    "- we think the shortest songs will belong to = pop\n",
    "<!-- - we think that the longest songs will belong to = country -->\n",
    "\n",
    "Hypothesis: The shortest songs among each of our top 15 artists (30 total artists) will belong to the pop genre. These pop songs will fall below the mean length. Thus, the length of a pop song will be less than or equal to __ in milliseconds. \n",
    "Note: This is a left tailed test!\n",
    "\n",
    "1. Identify the null (H0) and the alternative hypothesis (H1):\n",
    "    - H0: Length(pop) =< mean\n",
    "    - H1: Length(pop) > mean\n",
    "1. Declare level of significance:\n",
    "    - $\\alpha$ = 0.05\n",
    "\n",
    "1. Select the appropriate test statistic:\n",
    "    - for a 1 sample test (which is all the spotify data combined) use:\n",
    "    $$ t = \\frac{\\overline{x} - \\mu }{\\frac{s}{\\sqrt{n}}} $$\n",
    "\n",
    "1. Formulate the decision rule:\n",
    "\n",
    "1. Conclusion:"
   ]
  },
  {
   "cell_type": "code",
   "execution_count": 20,
   "metadata": {},
   "outputs": [
    {
     "name": "stdout",
     "output_type": "stream",
     "text": [
      "2.7384594904207242\n",
      "1.601037477752881\n",
      "164307.56942524196\n",
      "96062.24866517205\n"
     ]
    }
   ],
   "source": [
    "# First, let's add a column called \"minutesPlayed\"!\n",
    "import pandas as pd\n",
    "df = pd.read_csv(\"merged_StreamingHistory.csv\")\n",
    "\n",
    "for song in df:\n",
    "    print(song)\n",
    "\n",
    "\n",
    "\n",
    "\n",
    "\n",
    "# minutes_played_ser = []\n",
    "\n",
    "# ms_played_arr = df[\"msPlayed\"]\n",
    "# song_count = 0\n",
    "# length_total = 0\n",
    "\n",
    "# for lengths in ms_played_arr:\n",
    "#     minutes = lengths / 60000\n",
    "#     minutes_played_ser.append(minutes)\n",
    "# df[\"minsPlayed\"] = minutes_played_ser\n",
    "# # print(df[\"minsPlayed\"])\n",
    "# # print(df)\n",
    "\n",
    "# mean_ms = df[\"msPlayed\"].mean()\n",
    "# stdev_ms = df[\"msPlayed\"].std()\n",
    "\n",
    "# mean_mins = df[\"minsPlayed\"].mean()\n",
    "# stdev_mins = df[\"minsPlayed\"].std()\n",
    "\n",
    "# print(mean_mins)\n",
    "# print(stdev_mins)\n",
    "\n",
    "# print(mean_ms)\n",
    "# print(stdev_ms)"
   ]
  },
  {
   "cell_type": "code",
   "execution_count": 21,
   "metadata": {},
   "outputs": [
    {
     "ename": "SyntaxError",
     "evalue": "invalid syntax (Temp/ipykernel_20512/3802293760.py, line 8)",
     "output_type": "error",
     "traceback": [
      "\u001b[1;36m  File \u001b[1;32m\"C:\\Users\\carso\\AppData\\Local\\Temp/ipykernel_20512/3802293760.py\"\u001b[1;36m, line \u001b[1;32m8\u001b[0m\n\u001b[1;33m    num_of_genre = np.array([DATA HERE])        # PUT THE DATA HERE\u001b[0m\n\u001b[1;37m                                  ^\u001b[0m\n\u001b[1;31mSyntaxError\u001b[0m\u001b[1;31m:\u001b[0m invalid syntax\n"
     ]
    }
   ],
   "source": [
    "## Let's check our computations through code!\n",
    "from scipy import stats\n",
    "import numpy as np\n",
    "# let's check our work with scipy\n",
    "# Jaylene: []\n",
    "# Carson: []\n",
    "\n",
    "num_of_genre = np.array([DATA HERE])        # PUT THE DATA HERE\n",
    "len_num_of_genre = len(num_of_genre)\n",
    "std = np.std(num_of_genre, ddof=1)\n",
    "mean = np.mean(num_of_genre)\n",
    "# print(len_num_of_genre, mean, std)\n",
    "t, pval = stats.ttest_1samp(num_of_genre, 4)\n",
    "pval /= 2      # p-value = the probablity that this sample comes from this distribution\n",
    "print(\"t:\", t, \"pval\", pval)\n",
    "alpha = 0.01\n",
    "if alpha < pval:\n",
    "    print(\"reject H0\")\n",
    "else: \n",
    "    print(\"do not reject H0\")"
   ]
  },
  {
   "cell_type": "markdown",
   "metadata": {},
   "source": [
    "### kNN Classifier on Data\n",
    "Let's use the kNN clasifier and decision tree to predict ...."
   ]
  },
  {
   "cell_type": "code",
   "execution_count": null,
   "metadata": {},
   "outputs": [],
   "source": []
  }
 ],
 "metadata": {
  "interpreter": {
   "hash": "13444eeae3222260d5f4c5ca1a52742249bd23a9f11f060f60412bdacd0f3829"
  },
  "kernelspec": {
   "display_name": "Python 3.9.7 ('base')",
   "language": "python",
   "name": "python3"
  },
  "language_info": {
   "codemirror_mode": {
    "name": "ipython",
    "version": 3
   },
   "file_extension": ".py",
   "mimetype": "text/x-python",
   "name": "python",
   "nbconvert_exporter": "python",
   "pygments_lexer": "ipython3",
   "version": "3.9.7"
  },
  "orig_nbformat": 4
 },
 "nbformat": 4,
 "nbformat_minor": 2
}
