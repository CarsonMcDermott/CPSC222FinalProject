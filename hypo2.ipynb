{
 "cells": [
  {
   "cell_type": "markdown",
   "metadata": {},
   "source": [
    "## Hypothesis 2\n",
    "\n",
    "We will use the streaming data to test: Depending on the genre of the song, can we guess the length of the song will be\n",
    "\n",
    "Predictions:\n",
    "- depending on pop, both of our top genres, we think that the songs will be shorter\n",
    "- theres is research that shows that pop songs and radio hits have to be shorter to catch people's attention\n",
    "    - article here: https://www.nme.com/blogs/nme-blogs/billboard-100-shorter-explicit-2054269\n",
    "- we think the shortest songs will belong to = pop\n",
    "\n",
    "Hypothesis: The shortest songs will belong to pop (from the entirety of our domain, or all of our songs combined). We are assuming that the shortest songs, or pop songs, will fall below the mean of all songs. In other words, the average length will be less than or equal to 163663 in milliseconds. \n",
    "    Note: This is a right-tailed test!\n",
    "\n",
    "1. Identify the null (H0) and the alternative hypothesis (H1):\n",
    "    - H0: AvgLength(pop) $\\ge$ AvgLength(without pop)\n",
    "    - H1: AvgLength(pop) $\\lt$ AvgLength(without pop)\n",
    "\n",
    "1. Declare level of significance:\n",
    "    - $\\alpha$ = 0.01\n",
    "\n",
    "1. Select the appropriate test statistic:\n",
    "    - for a 1 sample test (which is all the spotify data combined) use:\n",
    "    $$ t = \\frac{\\overline{x} - \\mu }{\\frac{s}{\\sqrt{n}}} $$\n",
    "\n",
    "1. Formulate the decision rule:\n",
    "    $$ t = \\frac{{167208} - 163663 }{\\frac{103710}{\\sqrt{3680}}} $$\n",
    "    $$ t (computed) = 2.025 $$"
   ]
  },
  {
   "cell_type": "markdown",
   "metadata": {},
   "source": [
    "### Let's test this value!\n",
    "#### First, let's get stats for Average Length of Pop songs and Average Length of everything else!\n",
    "- We will be using the artists sorted by genre from our kNN testing portion of the project!"
   ]
  },
  {
   "cell_type": "code",
   "execution_count": 103,
   "metadata": {},
   "outputs": [
    {
     "name": "stdout",
     "output_type": "stream",
     "text": [
      "Average Pop Song Length: 167208.70244565216\n",
      "mean: 163663.01138279933\n",
      "std: 94320.78918857026\n"
     ]
    }
   ],
   "source": [
    "import pandas as pd\n",
    "import numpy as np\n",
    "merged_df = pd.read_csv(\"merged_StreamingHistory.csv\")\n",
    "pop_artists = [\"Taylor Swift\", \"Olivia Rodrigo\", \"5 Seconds of Summer\", \"Britney Spears\", \"The Weeknd\", \"Rihanna\", \"Katy Perry\", \"Maroon 5\", \"B.o.B\"]\n",
    "#Lets find the values for only the \"pop\" song genre from our\n",
    "pop_ms_played = []\n",
    "count = 0\n",
    "total_length = 0\n",
    "taylor_df = merged_df.loc[merged_df['artistName'] == \"Taylor Swift\"]\n",
    "for value in taylor_df[\"msPlayed\"]:\n",
    "    pop_ms_played.append(value)\n",
    "    total_length += value\n",
    "    count +=1\n",
    "olivia_df = merged_df.loc[merged_df['artistName'] == \"Olivia Rodrigo\"]\n",
    "for value in olivia_df[\"msPlayed\"]:\n",
    "    pop_ms_played.append(value)\n",
    "    total_length += value\n",
    "    count +=1\n",
    "summer_df = merged_df.loc[merged_df['artistName'] == \"5 Seconds of Summer\"]\n",
    "for value in summer_df[\"msPlayed\"]:\n",
    "    pop_ms_played.append(value)\n",
    "    total_length += value\n",
    "    count +=1\n",
    "britney_df = merged_df.loc[merged_df['artistName'] == \"Britney Spears\"]\n",
    "for value in britney_df[\"msPlayed\"]:\n",
    "    pop_ms_played.append(value)\n",
    "    total_length += value\n",
    "    count +=1\n",
    "weeknd_df = merged_df.loc[merged_df['artistName'] == \"The Weeknd\"]\n",
    "for value in weeknd_df[\"msPlayed\"]:\n",
    "    pop_ms_played.append(value)\n",
    "    total_length += value\n",
    "    count +=1\n",
    "rihanna_df = merged_df.loc[merged_df['artistName'] == \"Rihanna\"]\n",
    "for value in rihanna_df[\"msPlayed\"]:\n",
    "    pop_ms_played.append(value)\n",
    "    total_length += value\n",
    "    count +=1\n",
    "katy_df = merged_df.loc[merged_df['artistName'] == \"Katy Perry\"]\n",
    "for value in katy_df[\"msPlayed\"]:\n",
    "    pop_ms_played.append(value)\n",
    "    total_length += value\n",
    "    count +=1\n",
    "    merged_df.loc[merged_df['artistName'] == \"Katy Perry\"]\n",
    "maroon_df = merged_df.loc[merged_df['artistName'] == \"Maroon 5\"]\n",
    "for value in maroon_df[\"msPlayed\"]:\n",
    "    pop_ms_played.append(value)\n",
    "    total_length += value\n",
    "    count +=1\n",
    "bob_df = merged_df.loc[merged_df['artistName'] == \"Rihanna\"]\n",
    "for value in bob_df[\"msPlayed\"]:\n",
    "    pop_ms_played.append(value)\n",
    "    total_length += value\n",
    "    count +=1\n",
    "avg_pop_length = total_length / count\n",
    "print(\"Average Pop Song Length:\", avg_pop_length)\n",
    "\n",
    "# # # For everything but pop songs\n",
    "# Now dropping values that contain the top pop artists\n",
    "for artists in pop_artists:\n",
    "    merged_df = merged_df[merged_df[\"artistName\"].str.contains(artists) == False]\n",
    "\n",
    "# # # Compute the average length for everything but pop\n",
    "non_pop_ms_played = []\n",
    "for value in merged_df[\"msPlayed\"]:\n",
    "    non_pop_ms_played.append(value)\n",
    "mean = np.mean(non_pop_ms_played)\n",
    "std = np.std(non_pop_ms_played)\n",
    "print(\"mean:\", mean)\n",
    "print(\"std:\", std)\n"
   ]
  },
  {
   "cell_type": "markdown",
   "metadata": {},
   "source": [
    "#### Now that we've seperated the pop song average and the remaining song average, let's check our work!"
   ]
  },
  {
   "cell_type": "code",
   "execution_count": 104,
   "metadata": {},
   "outputs": [
    {
     "name": "stdout",
     "output_type": "stream",
     "text": [
      "std: 103710.2509764909\n",
      "mean: 167208.70244565216\n",
      "t: 2.0251459594220114 pval 0.021432725424921407\n",
      "do not reject H0\n"
     ]
    }
   ],
   "source": [
    "from scipy import stats\n",
    "# let's check our work with scipy\n",
    "# Pull pop_ms_played and total_ms_ser for our testing\n",
    "num_of_genre = np.array(pop_ms_played)\n",
    "len_num_of_genre = len(num_of_genre)\n",
    "# print(len_num_of_genre)\n",
    "std = np.std(num_of_genre, ddof=1)\n",
    "print(\"std:\", std)\n",
    "mean = np.mean(num_of_genre)\n",
    "print(\"mean:\", mean)\n",
    "t, pval = stats.ttest_ind(num_of_genre, non_pop_ms_played)\n",
    "pval /= 2 # p-value = the probablity that this sample comes from this distribution\n",
    "print(\"t:\", t, \"pval\", pval)\n",
    "alpha = 0.01\n",
    "if pval < alpha:\n",
    "    print(\"reject H0\")\n",
    "else: \n",
    "    print(\"do not reject H0\")"
   ]
  }
 ],
 "metadata": {
  "interpreter": {
   "hash": "13444eeae3222260d5f4c5ca1a52742249bd23a9f11f060f60412bdacd0f3829"
  },
  "kernelspec": {
   "display_name": "Python 3.9.7 ('base')",
   "language": "python",
   "name": "python3"
  },
  "language_info": {
   "codemirror_mode": {
    "name": "ipython",
    "version": 3
   },
   "file_extension": ".py",
   "mimetype": "text/x-python",
   "name": "python",
   "nbconvert_exporter": "python",
   "pygments_lexer": "ipython3",
   "version": "3.9.7"
  },
  "orig_nbformat": 4
 },
 "nbformat": 4,
 "nbformat_minor": 2
}
