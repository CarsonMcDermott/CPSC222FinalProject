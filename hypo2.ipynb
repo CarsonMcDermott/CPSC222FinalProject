{
 "cells": [
  {
   "cell_type": "markdown",
   "metadata": {},
   "source": [
    "## Hypothesis Testing 2 and kNN Classifier\n",
    "\n",
    "We will use the streaming data to test: Depending on the genre of the song, can we guess the length of the song will be\n",
    "\n",
    "Predictions:\n",
    "- depending on pop, both of our top genres, we think that the songs will be shorter\n",
    "- theres is research that shows that pop songs and radio hits have to be shorter to catch people's attention\n",
    "    - article here: https://www.nme.com/blogs/nme-blogs/billboard-100-shorter-explicit-2054269\n",
    "- we think the shortest songs will belong to = pop\n",
    "<!-- - we think that the longest songs will belong to = country -->\n",
    "\n",
    "Hypothesis: The shortest songs among each of our top 15 artists (30 total artists) will belong to the pop genre. These pop songs will fall below the mean length. Thus, the length of a pop song will be less than or equal to __ in milliseconds. \n",
    "Note: This is a left tailed test!\n",
    "\n",
    "1. Identify the null (H0) and the alternative hypothesis (H1):\n",
    "    - H0: Length(pop) =< mean\n",
    "    - H1: Length(pop) > mean\n",
    "1. Declare level of significance:\n",
    "    - $\\alpha$ = 0.05\n",
    "\n",
    "1. Select the appropriate test statistic:\n",
    "    - for a 1 sample test (which is all the spotify data combined) use:\n",
    "    $$ t = \\frac{\\overline{x} - \\mu }{\\frac{s}{\\sqrt{n}}} $$\n",
    "\n",
    "1. Formulate the decision rule:\n",
    "\n",
    "1. Conclusion:"
   ]
  },
  {
   "cell_type": "markdown",
   "metadata": {},
   "source": [
    "- take top song title, and corresponding num of streams, find the genre for it\n",
    "- do num of song stream/total streams *100 = percent that song was streamed from the top 15 songs\n",
    "- hypo test, am I more likely to listen to a pop song, (previous hypo suggests that we will no listen to pop, dispite it being our top genre) in the data set spanning 6 months."
   ]
  },
  {
   "cell_type": "code",
   "execution_count": 81,
   "metadata": {},
   "outputs": [
    {
     "name": "stdout",
     "output_type": "stream",
     "text": [
      "183465.76430824696\n",
      "88552.0620166384\n"
     ]
    }
   ],
   "source": [
    "# First, let's add a column called \"minutesPlayed\"!\n",
    "import pandas as pd\n",
    "df = pd.read_csv(\"carson_StreamingHistory.csv\")\n",
    "# song = df[\"trackName\"].groupby(\"SMILE\")\n",
    "# print(song)\n",
    "top_songs = df[\"trackName\"].value_counts()\n",
    "total_streams = top_songs.sum()\n",
    "# print(top_songs)\n",
    "\n",
    "streams = []\n",
    "\n",
    "for song_streams in top_songs.head(15):\n",
    "    # print(song_streams)\n",
    "    streams.append(song_streams)\n",
    "    percent_played = (song_streams / total_streams) * 100\n",
    "    # print(percent_played)\n",
    "\n",
    "song_name = top_songs.head(15)\n",
    "# print(song_name)\n",
    "song_ser = [\"Good Life\", \"Runaway\", \"Ni**as In Paris\", \"SMILE\", \n",
    "            \"Tongue Tied\", \"Kids\", \"Heartless\", \"Peach\", \"All Falls Down\",\n",
    "            \"Waves\", \"The Spins\", \"Kilby Girl\", \"The Count (feat. Wiz Khalifa)\", \n",
    "            \"Work Out\", \"I Wonder\"]\n",
    "genre_column = [\"Alternative\", \"Rap\", \"Hip-Hop\", \"Rock\",\n",
    "                \"Alternative\", \"Hip-Hop/Rap\", \"Hip-Hop\", \"R&B/Soul\", \"Pop\",\n",
    "                \"Pop\", \"Hip-Hop\", \"Alternative\", \"Rap\",\n",
    "                \"R&B/Soul\", \"Hip-Hop\"]\n",
    "\n",
    "# new_df = pd.DataFrame(song_name, song_ser, genre_column)\n",
    "new_df = pd.DataFrame({'trackName' : song_ser,\n",
    "                        'streams' : streams,\n",
    "                        'genre' : genre_column}, \n",
    "                        columns=['trackName','streams', 'genre'])\n",
    "# new_df.index(\"trackName\")\n",
    "# print(new_df)\n",
    "\n",
    "#song stream count, song title, genre\n",
    "\n",
    "\n",
    "\n",
    "\n",
    "##\n",
    "\n",
    "# top_songs\n",
    "\n",
    "\n",
    "\n",
    "# fidn .valuecount to find stream number\n",
    "# put song name number of streams into a list\n",
    "# song/stream/genre?\n",
    "\n",
    "\n",
    "\n",
    "\n",
    "\n",
    "\n",
    "\n",
    "minutes_played_ser = []\n",
    "\n",
    "ms_played_arr = df[\"msPlayed\"]\n",
    "song_count = 0\n",
    "length_total = 0\n",
    "\n",
    "for lengths in ms_played_arr:\n",
    "    minutes = lengths / 60000\n",
    "    minutes_played_ser.append(minutes)\n",
    "df[\"minsPlayed\"] = minutes_played_ser\n",
    "# print(df[\"minsPlayed\"])\n",
    "# print(df)\n",
    "\n",
    "mean_ms = df[\"msPlayed\"].mean()\n",
    "stdev_ms = df[\"msPlayed\"].std()\n",
    "\n",
    "mean_mins = df[\"minsPlayed\"].mean()\n",
    "stdev_mins = df[\"minsPlayed\"].std()\n",
    "\n",
    "# print(mean_mins)\n",
    "# print(stdev_mins)\n",
    "\n",
    "# print(mean_ms)\n",
    "# print(stdev_ms)"
   ]
  },
  {
   "cell_type": "code",
   "execution_count": 80,
   "metadata": {},
   "outputs": [
    {
     "ename": "TypeError",
     "evalue": "array() missing required argument 'object' (pos 1)",
     "output_type": "error",
     "traceback": [
      "\u001b[1;31m---------------------------------------------------------------------------\u001b[0m",
      "\u001b[1;31mTypeError\u001b[0m                                 Traceback (most recent call last)",
      "\u001b[1;32m~\\AppData\\Local\\Temp/ipykernel_20512/4141718656.py\u001b[0m in \u001b[0;36m<module>\u001b[1;34m\u001b[0m\n\u001b[0;32m      6\u001b[0m \u001b[1;31m# Carson: []\u001b[0m\u001b[1;33m\u001b[0m\u001b[1;33m\u001b[0m\u001b[0m\n\u001b[0;32m      7\u001b[0m \u001b[1;33m\u001b[0m\u001b[0m\n\u001b[1;32m----> 8\u001b[1;33m \u001b[0mnum_of_genre\u001b[0m \u001b[1;33m=\u001b[0m \u001b[0mnp\u001b[0m\u001b[1;33m.\u001b[0m\u001b[0marray\u001b[0m\u001b[1;33m(\u001b[0m\u001b[1;33m)\u001b[0m        \u001b[1;31m# PUT THE DATA HERE\u001b[0m\u001b[1;33m\u001b[0m\u001b[1;33m\u001b[0m\u001b[0m\n\u001b[0m\u001b[0;32m      9\u001b[0m \u001b[0mlen_num_of_genre\u001b[0m \u001b[1;33m=\u001b[0m \u001b[0mlen\u001b[0m\u001b[1;33m(\u001b[0m\u001b[0mnum_of_genre\u001b[0m\u001b[1;33m)\u001b[0m\u001b[1;33m\u001b[0m\u001b[1;33m\u001b[0m\u001b[0m\n\u001b[0;32m     10\u001b[0m \u001b[0mstd\u001b[0m \u001b[1;33m=\u001b[0m \u001b[0mnp\u001b[0m\u001b[1;33m.\u001b[0m\u001b[0mstd\u001b[0m\u001b[1;33m(\u001b[0m\u001b[0mnum_of_genre\u001b[0m\u001b[1;33m,\u001b[0m \u001b[0mddof\u001b[0m\u001b[1;33m=\u001b[0m\u001b[1;36m1\u001b[0m\u001b[1;33m)\u001b[0m\u001b[1;33m\u001b[0m\u001b[1;33m\u001b[0m\u001b[0m\n",
      "\u001b[1;31mTypeError\u001b[0m: array() missing required argument 'object' (pos 1)"
     ]
    }
   ],
   "source": [
    "## Let's check our computations through code!\n",
    "from scipy import stats\n",
    "import numpy as np\n",
    "# let's check our work with scipy\n",
    "# Jaylene: []\n",
    "# Carson: []\n",
    "\n",
    "num_of_genre = np.array([])        # PUT THE DATA HERE\n",
    "len_num_of_genre = len(num_of_genre)\n",
    "std = np.std(num_of_genre, ddof=1)\n",
    "mean = np.mean(num_of_genre)\n",
    "# print(len_num_of_genre, mean, std)\n",
    "t, pval = stats.ttest_1samp(num_of_genre, 4)\n",
    "pval /= 2 # p-value = the probablity that this sample comes from this distribution\n",
    "print(\"t:\", t, \"pval\", pval)\n",
    "alpha = 0.01\n",
    "if alpha < pval:\n",
    "    print(\"reject H0\")\n",
    "else: \n",
    "    print(\"do not reject H0\")"
   ]
  },
  {
   "cell_type": "markdown",
   "metadata": {},
   "source": [
    "### kNN Classifier on Data\n",
    "Let's use the kNN clasifier and decision tree to predict ...."
   ]
  },
  {
   "cell_type": "code",
   "execution_count": null,
   "metadata": {},
   "outputs": [],
   "source": []
  }
 ],
 "metadata": {
  "interpreter": {
   "hash": "13444eeae3222260d5f4c5ca1a52742249bd23a9f11f060f60412bdacd0f3829"
  },
  "kernelspec": {
   "display_name": "Python 3.9.7 ('base')",
   "language": "python",
   "name": "python3"
  },
  "language_info": {
   "codemirror_mode": {
    "name": "ipython",
    "version": 3
   },
   "file_extension": ".py",
   "mimetype": "text/x-python",
   "name": "python",
   "nbconvert_exporter": "python",
   "pygments_lexer": "ipython3",
   "version": "3.9.7"
  },
  "orig_nbformat": 4
 },
 "nbformat": 4,
 "nbformat_minor": 2
}
