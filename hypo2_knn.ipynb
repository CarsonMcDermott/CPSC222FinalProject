{
 "cells": [
  {
   "cell_type": "markdown",
   "metadata": {},
   "source": [
    "## Hypothesis Testing 2 and kNN Classifier\n",
    "\n",
    "We will use the streaming data to test:\n",
    "Depending on the genre of the song, can we guess the length of the song will be\n",
    "\n",
    "Predictions:\n",
    "- depending on pop, both of our top genres, we think that the songs will be shorter\n",
    "- theres research that shows that pop songs and radio hits have to be shorter to catch people's attention\n",
    "    - article here: https://www.nme.com/blogs/nme-blogs/billboard-100-shorter-explicit-2054269\n",
    "- we think the shortest songs will belong to = pop\n",
    "- we think that the longest songs will belong to = country\n",
    "\n",
    "Hypothesis:\n",
    "The shortest songs will belong to pop. The shortest songs fall at or below the 15.9th percentile, which is one standard deviation below the mean. Thus, the length of a pop song will be less than or equal to ______ in milliseconds. \n",
    "Note: This is a left tailed test!\n",
    "\n",
    "1. Identify the null (H0) and the alternative hypothesis (H1):\n",
    "- H0: \n",
    "- H1: \n",
    "\n",
    "2. Declare level of significance:\n",
    "    - $\\alpha = 0.01$\n",
    "\n",
    "3. Select the appropriate test statistic:\n",
    "- for a 1 sample test (which is all the spotify data combined) use: \n",
    "$$ t = \\frac{\\overline{x} - \\mu }{\\frac{s}{\\sqrt{n}}} $$\n",
    "\n",
    "4. Formulate the decision rule:\n",
    "\n",
    "5. Conclusion:\n",
    "\n",
    "\n",
    "\n",
    "\n",
    "\n"
   ]
  },
  {
   "cell_type": "code",
   "execution_count": null,
   "metadata": {},
   "outputs": [],
   "source": [
    "## Let's check our computations through code!\n",
    "from scipy import stats\n",
    "import numpy as np\n",
    "# let's check our work with scipy\n",
    "num_of_genre = np.array([DATA HERE])        # PUT THE DATA HERE\n",
    "len_num_of_genre = len(num_of_genre)\n",
    "std = np.std(num_of_genre, ddof=1)\n",
    "mean = np.mean(num_of_genre)\n",
    "# print(len_num_of_genre, mean, std)\n",
    "t, pval = stats.ttest_1samp(num_of_genre, 4)\n",
    "pval /= 2      # p-value = the probablity that this sample comes from this distribution\n",
    "print(\"t:\", t, \"pval\", pval)\n",
    "alpha = 0.01\n",
    "if alpha < pval:\n",
    "    print(\"reject H0\")\n",
    "else: \n",
    "    print(\"do not reject H0\")"
   ]
  },
  {
   "cell_type": "markdown",
   "metadata": {},
   "source": [
    "## kNN Classifier on Data\n",
    "Let's use the kNN classifier and decision tree to predict what the "
   ]
  },
  {
   "cell_type": "code",
   "execution_count": null,
   "metadata": {},
   "outputs": [],
   "source": [
    "## coding the classifer!\n"
   ]
  }
 ],
 "metadata": {
  "language_info": {
   "name": "python"
  },
  "orig_nbformat": 4
 },
 "nbformat": 4,
 "nbformat_minor": 2
}
