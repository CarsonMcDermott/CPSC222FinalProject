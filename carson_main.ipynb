{
 "cells": [
  {
   "cell_type": "markdown",
   "metadata": {},
   "source": [
    "## Final Project\n",
    "* For my final project, i am working with Jaylene B, analysing Spotify Data. We did a few analysis points:\n",
    "    * Jaylene and I compared our data to see who had more listening time over specific months."
   ]
  },
  {
   "cell_type": "markdown",
   "metadata": {},
   "source": [
    "## Stats\n",
    "* Here is a number of various stats regarding my data"
   ]
  },
  {
   "cell_type": "code",
   "execution_count": 4,
   "metadata": {},
   "outputs": [
    {
     "ename": "ValueError",
     "evalue": "Expected object or value",
     "output_type": "error",
     "traceback": [
      "\u001b[1;31m---------------------------------------------------------------------------\u001b[0m",
      "\u001b[1;31mValueError\u001b[0m                                Traceback (most recent call last)",
      "\u001b[1;32m~\\AppData\\Local\\Temp/ipykernel_12444/683859826.py\u001b[0m in \u001b[0;36m<module>\u001b[1;34m\u001b[0m\n\u001b[0;32m      3\u001b[0m \u001b[1;33m\u001b[0m\u001b[0m\n\u001b[0;32m      4\u001b[0m \u001b[1;31m# First let's import the data\u001b[0m\u001b[1;33m\u001b[0m\u001b[1;33m\u001b[0m\u001b[0m\n\u001b[1;32m----> 5\u001b[1;33m \u001b[0mjson_df\u001b[0m \u001b[1;33m=\u001b[0m \u001b[0mpd\u001b[0m\u001b[1;33m.\u001b[0m\u001b[0mread_json\u001b[0m\u001b[1;33m(\u001b[0m\u001b[1;34m\"carson_spotify_music_data.json\"\u001b[0m\u001b[1;33m)\u001b[0m\u001b[1;33m\u001b[0m\u001b[1;33m\u001b[0m\u001b[0m\n\u001b[0m\u001b[0;32m      6\u001b[0m \u001b[1;33m\u001b[0m\u001b[0m\n\u001b[0;32m      7\u001b[0m \u001b[1;31m# Now to compute stats!\u001b[0m\u001b[1;33m\u001b[0m\u001b[1;33m\u001b[0m\u001b[0m\n",
      "\u001b[1;32m~\\anaconda3\\lib\\site-packages\\pandas\\util\\_decorators.py\u001b[0m in \u001b[0;36mwrapper\u001b[1;34m(*args, **kwargs)\u001b[0m\n\u001b[0;32m    205\u001b[0m                 \u001b[1;32melse\u001b[0m\u001b[1;33m:\u001b[0m\u001b[1;33m\u001b[0m\u001b[1;33m\u001b[0m\u001b[0m\n\u001b[0;32m    206\u001b[0m                     \u001b[0mkwargs\u001b[0m\u001b[1;33m[\u001b[0m\u001b[0mnew_arg_name\u001b[0m\u001b[1;33m]\u001b[0m \u001b[1;33m=\u001b[0m \u001b[0mnew_arg_value\u001b[0m\u001b[1;33m\u001b[0m\u001b[1;33m\u001b[0m\u001b[0m\n\u001b[1;32m--> 207\u001b[1;33m             \u001b[1;32mreturn\u001b[0m \u001b[0mfunc\u001b[0m\u001b[1;33m(\u001b[0m\u001b[1;33m*\u001b[0m\u001b[0margs\u001b[0m\u001b[1;33m,\u001b[0m \u001b[1;33m**\u001b[0m\u001b[0mkwargs\u001b[0m\u001b[1;33m)\u001b[0m\u001b[1;33m\u001b[0m\u001b[1;33m\u001b[0m\u001b[0m\n\u001b[0m\u001b[0;32m    208\u001b[0m \u001b[1;33m\u001b[0m\u001b[0m\n\u001b[0;32m    209\u001b[0m         \u001b[1;32mreturn\u001b[0m \u001b[0mcast\u001b[0m\u001b[1;33m(\u001b[0m\u001b[0mF\u001b[0m\u001b[1;33m,\u001b[0m \u001b[0mwrapper\u001b[0m\u001b[1;33m)\u001b[0m\u001b[1;33m\u001b[0m\u001b[1;33m\u001b[0m\u001b[0m\n",
      "\u001b[1;32m~\\anaconda3\\lib\\site-packages\\pandas\\util\\_decorators.py\u001b[0m in \u001b[0;36mwrapper\u001b[1;34m(*args, **kwargs)\u001b[0m\n\u001b[0;32m    309\u001b[0m                     \u001b[0mstacklevel\u001b[0m\u001b[1;33m=\u001b[0m\u001b[0mstacklevel\u001b[0m\u001b[1;33m,\u001b[0m\u001b[1;33m\u001b[0m\u001b[1;33m\u001b[0m\u001b[0m\n\u001b[0;32m    310\u001b[0m                 )\n\u001b[1;32m--> 311\u001b[1;33m             \u001b[1;32mreturn\u001b[0m \u001b[0mfunc\u001b[0m\u001b[1;33m(\u001b[0m\u001b[1;33m*\u001b[0m\u001b[0margs\u001b[0m\u001b[1;33m,\u001b[0m \u001b[1;33m**\u001b[0m\u001b[0mkwargs\u001b[0m\u001b[1;33m)\u001b[0m\u001b[1;33m\u001b[0m\u001b[1;33m\u001b[0m\u001b[0m\n\u001b[0m\u001b[0;32m    312\u001b[0m \u001b[1;33m\u001b[0m\u001b[0m\n\u001b[0;32m    313\u001b[0m         \u001b[1;32mreturn\u001b[0m \u001b[0mwrapper\u001b[0m\u001b[1;33m\u001b[0m\u001b[1;33m\u001b[0m\u001b[0m\n",
      "\u001b[1;32m~\\anaconda3\\lib\\site-packages\\pandas\\io\\json\\_json.py\u001b[0m in \u001b[0;36mread_json\u001b[1;34m(path_or_buf, orient, typ, dtype, convert_axes, convert_dates, keep_default_dates, numpy, precise_float, date_unit, encoding, encoding_errors, lines, chunksize, compression, nrows, storage_options)\u001b[0m\n\u001b[0;32m    612\u001b[0m \u001b[1;33m\u001b[0m\u001b[0m\n\u001b[0;32m    613\u001b[0m     \u001b[1;32mwith\u001b[0m \u001b[0mjson_reader\u001b[0m\u001b[1;33m:\u001b[0m\u001b[1;33m\u001b[0m\u001b[1;33m\u001b[0m\u001b[0m\n\u001b[1;32m--> 614\u001b[1;33m         \u001b[1;32mreturn\u001b[0m \u001b[0mjson_reader\u001b[0m\u001b[1;33m.\u001b[0m\u001b[0mread\u001b[0m\u001b[1;33m(\u001b[0m\u001b[1;33m)\u001b[0m\u001b[1;33m\u001b[0m\u001b[1;33m\u001b[0m\u001b[0m\n\u001b[0m\u001b[0;32m    615\u001b[0m \u001b[1;33m\u001b[0m\u001b[0m\n\u001b[0;32m    616\u001b[0m \u001b[1;33m\u001b[0m\u001b[0m\n",
      "\u001b[1;32m~\\anaconda3\\lib\\site-packages\\pandas\\io\\json\\_json.py\u001b[0m in \u001b[0;36mread\u001b[1;34m(self)\u001b[0m\n\u001b[0;32m    746\u001b[0m                 \u001b[0mobj\u001b[0m \u001b[1;33m=\u001b[0m \u001b[0mself\u001b[0m\u001b[1;33m.\u001b[0m\u001b[0m_get_object_parser\u001b[0m\u001b[1;33m(\u001b[0m\u001b[0mself\u001b[0m\u001b[1;33m.\u001b[0m\u001b[0m_combine_lines\u001b[0m\u001b[1;33m(\u001b[0m\u001b[0mdata_lines\u001b[0m\u001b[1;33m)\u001b[0m\u001b[1;33m)\u001b[0m\u001b[1;33m\u001b[0m\u001b[1;33m\u001b[0m\u001b[0m\n\u001b[0;32m    747\u001b[0m         \u001b[1;32melse\u001b[0m\u001b[1;33m:\u001b[0m\u001b[1;33m\u001b[0m\u001b[1;33m\u001b[0m\u001b[0m\n\u001b[1;32m--> 748\u001b[1;33m             \u001b[0mobj\u001b[0m \u001b[1;33m=\u001b[0m \u001b[0mself\u001b[0m\u001b[1;33m.\u001b[0m\u001b[0m_get_object_parser\u001b[0m\u001b[1;33m(\u001b[0m\u001b[0mself\u001b[0m\u001b[1;33m.\u001b[0m\u001b[0mdata\u001b[0m\u001b[1;33m)\u001b[0m\u001b[1;33m\u001b[0m\u001b[1;33m\u001b[0m\u001b[0m\n\u001b[0m\u001b[0;32m    749\u001b[0m         \u001b[0mself\u001b[0m\u001b[1;33m.\u001b[0m\u001b[0mclose\u001b[0m\u001b[1;33m(\u001b[0m\u001b[1;33m)\u001b[0m\u001b[1;33m\u001b[0m\u001b[1;33m\u001b[0m\u001b[0m\n\u001b[0;32m    750\u001b[0m         \u001b[1;32mreturn\u001b[0m \u001b[0mobj\u001b[0m\u001b[1;33m\u001b[0m\u001b[1;33m\u001b[0m\u001b[0m\n",
      "\u001b[1;32m~\\anaconda3\\lib\\site-packages\\pandas\\io\\json\\_json.py\u001b[0m in \u001b[0;36m_get_object_parser\u001b[1;34m(self, json)\u001b[0m\n\u001b[0;32m    768\u001b[0m         \u001b[0mobj\u001b[0m \u001b[1;33m=\u001b[0m \u001b[1;32mNone\u001b[0m\u001b[1;33m\u001b[0m\u001b[1;33m\u001b[0m\u001b[0m\n\u001b[0;32m    769\u001b[0m         \u001b[1;32mif\u001b[0m \u001b[0mtyp\u001b[0m \u001b[1;33m==\u001b[0m \u001b[1;34m\"frame\"\u001b[0m\u001b[1;33m:\u001b[0m\u001b[1;33m\u001b[0m\u001b[1;33m\u001b[0m\u001b[0m\n\u001b[1;32m--> 770\u001b[1;33m             \u001b[0mobj\u001b[0m \u001b[1;33m=\u001b[0m \u001b[0mFrameParser\u001b[0m\u001b[1;33m(\u001b[0m\u001b[0mjson\u001b[0m\u001b[1;33m,\u001b[0m \u001b[1;33m**\u001b[0m\u001b[0mkwargs\u001b[0m\u001b[1;33m)\u001b[0m\u001b[1;33m.\u001b[0m\u001b[0mparse\u001b[0m\u001b[1;33m(\u001b[0m\u001b[1;33m)\u001b[0m\u001b[1;33m\u001b[0m\u001b[1;33m\u001b[0m\u001b[0m\n\u001b[0m\u001b[0;32m    771\u001b[0m \u001b[1;33m\u001b[0m\u001b[0m\n\u001b[0;32m    772\u001b[0m         \u001b[1;32mif\u001b[0m \u001b[0mtyp\u001b[0m \u001b[1;33m==\u001b[0m \u001b[1;34m\"series\"\u001b[0m \u001b[1;32mor\u001b[0m \u001b[0mobj\u001b[0m \u001b[1;32mis\u001b[0m \u001b[1;32mNone\u001b[0m\u001b[1;33m:\u001b[0m\u001b[1;33m\u001b[0m\u001b[1;33m\u001b[0m\u001b[0m\n",
      "\u001b[1;32m~\\anaconda3\\lib\\site-packages\\pandas\\io\\json\\_json.py\u001b[0m in \u001b[0;36mparse\u001b[1;34m(self)\u001b[0m\n\u001b[0;32m    883\u001b[0m \u001b[1;33m\u001b[0m\u001b[0m\n\u001b[0;32m    884\u001b[0m         \u001b[1;32melse\u001b[0m\u001b[1;33m:\u001b[0m\u001b[1;33m\u001b[0m\u001b[1;33m\u001b[0m\u001b[0m\n\u001b[1;32m--> 885\u001b[1;33m             \u001b[0mself\u001b[0m\u001b[1;33m.\u001b[0m\u001b[0m_parse_no_numpy\u001b[0m\u001b[1;33m(\u001b[0m\u001b[1;33m)\u001b[0m\u001b[1;33m\u001b[0m\u001b[1;33m\u001b[0m\u001b[0m\n\u001b[0m\u001b[0;32m    886\u001b[0m \u001b[1;33m\u001b[0m\u001b[0m\n\u001b[0;32m    887\u001b[0m         \u001b[1;32mif\u001b[0m \u001b[0mself\u001b[0m\u001b[1;33m.\u001b[0m\u001b[0mobj\u001b[0m \u001b[1;32mis\u001b[0m \u001b[1;32mNone\u001b[0m\u001b[1;33m:\u001b[0m\u001b[1;33m\u001b[0m\u001b[1;33m\u001b[0m\u001b[0m\n",
      "\u001b[1;32m~\\anaconda3\\lib\\site-packages\\pandas\\io\\json\\_json.py\u001b[0m in \u001b[0;36m_parse_no_numpy\u001b[1;34m(self)\u001b[0m\n\u001b[0;32m   1138\u001b[0m         \u001b[1;32mif\u001b[0m \u001b[0morient\u001b[0m \u001b[1;33m==\u001b[0m \u001b[1;34m\"columns\"\u001b[0m\u001b[1;33m:\u001b[0m\u001b[1;33m\u001b[0m\u001b[1;33m\u001b[0m\u001b[0m\n\u001b[0;32m   1139\u001b[0m             self.obj = DataFrame(\n\u001b[1;32m-> 1140\u001b[1;33m                 \u001b[0mloads\u001b[0m\u001b[1;33m(\u001b[0m\u001b[0mjson\u001b[0m\u001b[1;33m,\u001b[0m \u001b[0mprecise_float\u001b[0m\u001b[1;33m=\u001b[0m\u001b[0mself\u001b[0m\u001b[1;33m.\u001b[0m\u001b[0mprecise_float\u001b[0m\u001b[1;33m)\u001b[0m\u001b[1;33m,\u001b[0m \u001b[0mdtype\u001b[0m\u001b[1;33m=\u001b[0m\u001b[1;32mNone\u001b[0m\u001b[1;33m\u001b[0m\u001b[1;33m\u001b[0m\u001b[0m\n\u001b[0m\u001b[0;32m   1141\u001b[0m             )\n\u001b[0;32m   1142\u001b[0m         \u001b[1;32melif\u001b[0m \u001b[0morient\u001b[0m \u001b[1;33m==\u001b[0m \u001b[1;34m\"split\"\u001b[0m\u001b[1;33m:\u001b[0m\u001b[1;33m\u001b[0m\u001b[1;33m\u001b[0m\u001b[0m\n",
      "\u001b[1;31mValueError\u001b[0m: Expected object or value"
     ]
    }
   ],
   "source": [
    "import pandas as pd\n",
    "# import numpy as np\n",
    "\n",
    "# First let's import the data\n",
    "json_df = pd.read_json(\"carson_StreamingHistory.json\")\n",
    "\n",
    "# Now to compute stats!\n",
    "\n",
    "# Average Listen Time Per Song\n",
    "song_arr = json_df[\"msPlayed\"]\n",
    "song_count = 0\n",
    "length_total = 0\n",
    "for lengths in song_arr:\n",
    "    song_count += 1\n",
    "    length_total += lengths\n",
    "avg_listen_time_ms = length_total / song_count\n",
    "avg_listen_time_minutes = avg_listen_time_ms / 60000 #since there are 60,000 milliseconds in a minute!\n",
    "# print(\"Average Listen Time Per Song (in minutes):\", avg_listen_time_minutes)\n",
    "\n",
    "# Longest Song\n",
    "longest_song_ms = json_df[\"msPlayed\"].max()\n",
    "longest_song_data = json_df.loc[json_df[\"msPlayed\"] == longest_song_ms]\n",
    "print(\"Longest Song Listen Time Data:\")\n",
    "# print(longest_song_data)\n",
    "# I know this song isnt actually the longest, as a I know this is only 5 minute song, and\n",
    "# there are other songs nearing 9 minutes. I think it tracked this song for longer than 9 minutes due to \n",
    "# it possibly being replayed mid-song (AKA I replayed the song before it actually ended).\n",
    "\n",
    "# Shortest Song\n",
    "shortest_song_ms = json_df[\"msPlayed\"].min()\n",
    "shortest_song_data = json_df.loc[json_df[\"msPlayed\"] == shortest_song_ms]\n",
    "print(\"Shortest Song Listen Time Data:\")\n",
    "# print(shortest_song_data)\n",
    "# the reason why there are so many of these is due to the fact of me skipping over a number of songs at once\n",
    "# for example, I would listen to a \"spotify radio\" for so long it would turn to songs I didnt know, so I would imediately skip them.\n",
    "\n",
    "# Average Letters Per Song Title\n",
    "track_arr = json_df[\"trackName\"]\n",
    "title_count = 0\n",
    "total_letters = 0\n",
    "for titles in track_arr:\n",
    "    title_count += 1\n",
    "    for letters in titles:\n",
    "        total_letters += 1\n",
    "avg_letters_per_title = total_letters / title_count\n",
    "# print(\"Average Letters Per Song Title:\", avg_letters_per_title)\n",
    "\n",
    "# Average Letters per Artist Name\n",
    "artist_arr = json_df[\"artistName\"]\n",
    "artist_count = 0\n",
    "total_letters = 0\n",
    "for artist in artist_arr:\n",
    "    artist_count += 1\n",
    "    for letters in artist:\n",
    "        total_letters += 1\n",
    "avg_letters_per_artist = total_letters / title_count\n",
    "# print(\"Average Letters Per Artist Name:\", avg_letters_per_artist)\n",
    "\n",
    "# Top Artists\n",
    "top_15_artists = artist_arr.value_counts().head(15)\n",
    "# print(\"My Top 15 Spotify Artists Based Off Songs Listened To:\")\n",
    "print(top_15_artists)"
   ]
  },
  {
   "cell_type": "markdown",
   "metadata": {},
   "source": [
    "### Cleaning:\n",
    "* There is very little/no cleaning needed for this data. The biggest factor in this cateogry would be if song length were to be analyzed in the future, the milliseconds would have to be converted into minutes and seconds. For the following hypothesis tests and visualizations, it's not needed. \n",
    "\n",
    "### Visualizations:\n",
    "I have chosen to create a bar graph of my 15 top artists: how many times I have listened to the artist and the number of times my most listened song of theirs was played."
   ]
  },
  {
   "cell_type": "code",
   "execution_count": null,
   "metadata": {},
   "outputs": [
    {
     "ename": "NameError",
     "evalue": "name 'top_15_artists' is not defined",
     "output_type": "error",
     "traceback": [
      "\u001b[1;31m---------------------------------------------------------------------------\u001b[0m",
      "\u001b[1;31mNameError\u001b[0m                                 Traceback (most recent call last)",
      "\u001b[1;32m~\\AppData\\Local\\Temp/ipykernel_12444/2779395641.py\u001b[0m in \u001b[0;36m<module>\u001b[1;34m\u001b[0m\n\u001b[0;32m     25\u001b[0m \u001b[0mplt\u001b[0m\u001b[1;33m.\u001b[0m\u001b[0mtitle\u001b[0m\u001b[1;33m(\u001b[0m\u001b[1;34m\"Top 15 Artists/Songs Listened To\"\u001b[0m\u001b[1;33m,\u001b[0m \u001b[0mcolor\u001b[0m\u001b[1;33m=\u001b[0m\u001b[1;34m\"white\"\u001b[0m\u001b[1;33m)\u001b[0m\u001b[1;33m\u001b[0m\u001b[1;33m\u001b[0m\u001b[0m\n\u001b[0;32m     26\u001b[0m \u001b[1;31m# this creates a new current figure, instead of adding to the previou one\u001b[0m\u001b[1;33m\u001b[0m\u001b[1;33m\u001b[0m\u001b[0m\n\u001b[1;32m---> 27\u001b[1;33m \u001b[0mplt\u001b[0m\u001b[1;33m.\u001b[0m\u001b[0mbar\u001b[0m\u001b[1;33m(\u001b[0m\u001b[0mtop_15_artists\u001b[0m\u001b[1;33m.\u001b[0m\u001b[0mindex\u001b[0m\u001b[1;33m,\u001b[0m \u001b[0mtop_15_artists\u001b[0m\u001b[1;33m)\u001b[0m\u001b[1;33m\u001b[0m\u001b[1;33m\u001b[0m\u001b[0m\n\u001b[0m\u001b[0;32m     28\u001b[0m \u001b[1;31m# plt.savefig(\"bar_example.png\")\u001b[0m\u001b[1;33m\u001b[0m\u001b[1;33m\u001b[0m\u001b[0m\n\u001b[0;32m     29\u001b[0m \u001b[1;33m\u001b[0m\u001b[0m\n",
      "\u001b[1;31mNameError\u001b[0m: name 'top_15_artists' is not defined"
     ]
    },
    {
     "data": {
      "image/png": "[encoded data removed]",
      "text/plain": [
       "<Figure size 432x288 with 1 Axes>"
      ]
     },
     "metadata": {
      "needs_background": "dark"
     },
     "output_type": "display_data"
    }
   ],
   "source": [
    "# I know I already imported these in a previous cell but it wouldn't run if I didn't import again... :(\n",
    "import numpy as np\n",
    "import pandas as pd\n",
    "\n",
    "# Creating the Graphs:\n",
    "\n",
    "# creating a series for the top 5 artist:\n",
    "# data inputed in increasing order:\n",
    "num_of_streams = np.array([483, 487, 212, 149, 96, 95, 77, 74, 70, 67, 60, 56, 53, 48, 48])   # total artist streams (all albums, all songs)\n",
    "num_of_genre = np.array([4, 3, 1, 1, 5, 1])\n",
    "genre_for_artist = np.array([\"rap\", \"hiphop\", \"alternative\", \"rock\", \"pop\", \"alternative pop rock\"])\n",
    "artist_for_streams = [\"Kanye West\", \"Mac Miller\", \"Joji\", \"JAY-Z\", \"J. Cole\", \"Kid Cudi\", \"Cage The Elephant\", \"The Weeknd\", \"Drake\", \"Aminé\", \"Dominic Fike\", \"Rihanna\", \"Katy Perry\", \"Maroon\", \"B.o.B\"] \n",
    "artist_ser = pd.Series(num_of_streams, index=artist_for_streams)\n",
    "# genre_ser = pd.Series(genre_for_artist, index=artist_for_streams)\n",
    "\n",
    "# Let's visualize some Data!\n",
    "import matplotlib.pyplot as plt\n",
    "# Let's start with my top artist and the amount of songs each have\n",
    "\n",
    "plt.figure()\n",
    "plt.xlabel(\"Artists\", color=\"white\")\n",
    "plt.xticks(rotation=55, ha=\"right\", color=\"white\")\n",
    "plt.yticks(color=\"white\")\n",
    "plt.ylabel(\"Total Songs Played\", color=\"white\")\n",
    "plt.title(\"Top 15 Artists/Songs Listened To\", color=\"white\")\n",
    "# this creates a new current figure, instead of adding to the previou one\n",
    "plt.bar(top_15_artists.index, top_15_artists)\n",
    "# plt.savefig(\"bar_example.png\")\n",
    "\n",
    "def pie_chart(x_ser, y_ser):\n",
    "    plt.figure() # will create a new \"current\" figure\n",
    "    plt.title(\"Spotify Genre For Top 15 Artists\")\n",
    "    plt.pie(y_ser, labels=x_ser, autopct=\"%.2f%%\")      # pass in only y_ser because that has the acutal counts of the data... use x_ser as the labels, autppct = auto percent... how to automatically display percentages for pie sectors. the %% will display two decimal places i think... either way just keep the formatting of it the same\n",
    "    plt.savefig(\"Genre_Chart.png\")\n",
    "\n",
    "# Bar Graph:\n",
    "# call bar_chart \n",
    "# plt.bar(artist_for_streams, artist_ser, \"Spotify Streaming Data: Most Popular Artist\", \"Most_Popular_Artist.png\")     # calling graph for total of all streams from an artist(spanning multiple albums)\n",
    "# Pie Chart:\n",
    "pie_chart(genre_for_artist, num_of_genre)"
   ]
  },
  {
   "cell_type": "markdown",
   "metadata": {},
   "source": [
    "## Hypothesis 1:\n",
    "* I want to test and see if I listen to more Mac Miller songs than I do"
   ]
  },
  {
   "cell_type": "markdown",
   "metadata": {},
   "source": [
    "### Hypothesis Testing:\n",
    "Is Carson more likely to listen to pop genre from the given time frame of 2021-06-26 to 2022-01-29?\n",
    "- took top 15 artists and found their genre\n",
    "- pop occurs _ times as the genre of the top artists\n",
    "\n",
    "1. Identify null and alternative hypothesis  \n",
    "* H0: M(pop) $\\ge$ 4 \n",
    "* H1: M(pop) < 4\n",
    "\n",
    "2. Level of significance  \n",
    "$ \\alpha = 0.01 $\n",
    "\n",
    "3. Select test statistic:\n",
    "test statistic: $$ t = \\frac{\\overline{x} - \\mu }{\\frac{s}{\\sqrt{n}}} $$\n",
    "\n",
    "4. Computations:\n",
    "- is a left-tailed test\n",
    "- df = 6-1 = 5 (because there are 6 different genres)\n",
    "- t-table value = 2.998\n",
    "- if t-computed > 2.998 then we reject H0. If t-commputed is less than or equal to 2.998, then we cannot reject H0.\n",
    "- this results in: $$ t = \\frac{2.14 - 4 }{\\frac{1.21}{\\sqrt{6}}} $$ $$ t (computed) = -2.086 $$\n",
    "\n",
    "5. Decision:  \n",
    "At a level of 0.01 significance, we cannot reject H0 since t-computed (-2.086) < t-critical (2.998). Thus we cannot say that pop is more likely to be listened to.  \n",
    "- double check work with python code:"
   ]
  },
  {
   "cell_type": "code",
   "execution_count": null,
   "metadata": {},
   "outputs": [
    {
     "name": "stdout",
     "output_type": "stream",
     "text": [
      "t: -2.0868250309207568 pval 0.04563356323729004\n",
      "reject H0\n"
     ]
    }
   ],
   "source": [
    "from scipy import stats\n",
    "import numpy as np\n",
    "# let's check our work with scipy\n",
    "num_of_genre = np.array([4, 3, 1, 1, 5, 1])\n",
    "len_num_of_genre = len(num_of_genre)\n",
    "std = np.std(num_of_genre, ddof=1)\n",
    "mean = np.mean(num_of_genre)\n",
    "# print(len_num_of_genre, mean, std)\n",
    "t, pval = stats.ttest_1samp(num_of_genre, 4)\n",
    "pval /= 2 # p-value = the probablity that this sample comes from this distribution\n",
    "print(\"t:\", t, \"pval\", pval)\n",
    "alpha = 0.01\n",
    "if alpha < pval:\n",
    "    print(\"reject H0\")\n",
    "else: \n",
    "    print(\"do not reject H0\")"
   ]
  },
  {
   "cell_type": "markdown",
   "metadata": {},
   "source": [
    "### Other Hypothesis Testing Ideas (future brainstorming):\n",
    "- could the results change if we're basing the analysis from another time frame\n",
    "- what about if you look at all of the streaming data\n",
    "\n",
    "\n",
    "\n",
    "\n",
    "### Conclusion:\n",
    "Overall, my top 15 artists were heavily centered around pop music. However, based on the table of streams and the hypothesis testing above, we cannot conclude that I am more likely to listen to pop more than any other genre. Because of this, one of my initial predictions was wrong. I think it's interesting how there are many different versions of pop!\n",
    "\n",
    "However, some of my initial predictions were correct. For example, my favorite artist was clearly Taylor Swift and my thrid artist was Lana Del Rey!\n",
    "\n",
    "\n",
    "Sum total amount of data listened to on a given day. H0: we listen to the same amount. H1, we dont listen ot the same amount\n",
    "- groupby genre to find "
   ]
  }
 ],
 "metadata": {
  "interpreter": {
   "hash": "13444eeae3222260d5f4c5ca1a52742249bd23a9f11f060f60412bdacd0f3829"
  },
  "kernelspec": {
   "display_name": "Python 3.9.7 ('base')",
   "language": "python",
   "name": "python3"
  },
  "language_info": {
   "codemirror_mode": {
    "name": "ipython",
    "version": 3
   },
   "file_extension": ".py",
   "mimetype": "text/x-python",
   "name": "python",
   "nbconvert_exporter": "python",
   "pygments_lexer": "ipython3",
   "version": "3.9.7"
  },
  "orig_nbformat": 4
 },
 "nbformat": 4,
 "nbformat_minor": 2
}
