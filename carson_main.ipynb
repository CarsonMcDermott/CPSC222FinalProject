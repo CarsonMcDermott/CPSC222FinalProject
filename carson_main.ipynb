{
 "cells": [
  {
   "cell_type": "markdown",
   "metadata": {},
   "source": [
    "## Final Project\n",
    "* For my final project, i am working with Jaylene B, analysing Spotify Data. We did a few analysis points:\n",
    "    * Jaylene and I compared our data to see who had more listening time over specific months."
   ]
  },
  {
   "cell_type": "markdown",
   "metadata": {},
   "source": [
    "## Stats\n",
    "* Here is a number of various stats regarding my data"
   ]
  },
  {
   "cell_type": "code",
   "execution_count": 49,
   "metadata": {},
   "outputs": [
    {
     "name": "stdout",
     "output_type": "stream",
     "text": [
      "Longest Song Listen Time Data:              endTime  artistName  trackName  msPlayed\n",
      "85  2021-06-28 23:23  Mac Miller  Good News    666030\n",
      "Shortest Song Listen Time Data:                endTime               artistName  \\\n",
      "66    2021-06-28 19:16             Alan Jackson   \n",
      "69    2021-06-28 19:16           Jo Dee Messina   \n",
      "71    2021-06-28 19:16  John Michael Montgomery   \n",
      "72    2021-06-28 19:16             Shania Twain   \n",
      "74    2021-06-28 19:16            Brooks & Dunn   \n",
      "76    2021-06-28 19:16             Randy Travis   \n",
      "289   2021-07-05 21:38                Grouplove   \n",
      "318   2021-07-05 22:47        Empire of the Sun   \n",
      "332   2021-07-05 23:39                 SG Lewis   \n",
      "361   2021-07-06 02:28             Fall Out Boy   \n",
      "430   2021-07-09 19:28                   DaBaby   \n",
      "475   2021-07-11 07:05                Lil Nas X   \n",
      "476   2021-07-11 07:05                  J. Cole   \n",
      "477   2021-07-11 07:05                   Future   \n",
      "481   2021-07-11 07:05                   DaBaby   \n",
      "3418  2021-11-17 05:47                 Kid Cudi   \n",
      "4887  2021-12-09 18:30                  Kid Ink   \n",
      "5761  2021-12-31 09:01              Still Woozy   \n",
      "5763  2021-12-31 09:01          Briston Maroney   \n",
      "6642  2022-01-28 21:11            Freddie Gibbs   \n",
      "\n",
      "                                              trackName  msPlayed  \n",
      "66                                       Livin' On Love         0  \n",
      "69                                              Bye-Bye         0  \n",
      "71                                       Life's a Dance         0  \n",
      "72                                 No One Needs To Know         0  \n",
      "74                                     Hard Workin' Man         0  \n",
      "76                                 If I Didn't Have You         0  \n",
      "289                                         Tongue Tied         0  \n",
      "318                                        High And Low         0  \n",
      "332                                           Chemicals         0  \n",
      "361                                           Centuries         0  \n",
      "430                                            Number 2         0  \n",
      "475                               Panini - DaBaby Remix         0  \n",
      "476                                      No Role Modelz         0  \n",
      "477                          Life Is Good (feat. Drake)         0  \n",
      "481                                               VIBEZ         0  \n",
      "3418                               Soundtrack 2 My Life         0  \n",
      "4887                                Money and the Power         0  \n",
      "5761                                         Goodie Bag         0  \n",
      "5763                                      Under My Skin         0  \n",
      "6642  Something to Rap About (feat. Tyler, The Creator)         0  \n",
      "Average Letters Per Song Title: 15.631515697761754\n",
      "Average Letters Per Artist Name: 9.774523058434731\n",
      "My Top 15 Spotify Artists Based Off Songs Listened To:\n",
      "Kanye West           483\n",
      "Mac Miller           473\n",
      "Joji                 212\n",
      "JAY-Z                149\n",
      "J. Cole               96\n",
      "Kid Cudi              95\n",
      "Cage The Elephant     77\n",
      "The Weeknd            74\n",
      "Drake                 70\n",
      "Aminé                 67\n",
      "Dominic Fike          60\n",
      "Rihanna               56\n",
      "Katy Perry            53\n",
      "Maroon 5              48\n",
      "B.o.B                 48\n",
      "Name: artistName, dtype: int64\n"
     ]
    }
   ],
   "source": [
    "##########################################\n",
    "import pandas as pd\n",
    "import numpy as np\n",
    "\n",
    "# First let's import the data\n",
    "json_df = pd.read_json(\"carson_StreamingHistory.json\")\n",
    "\n",
    "# Now to compute stats!\n",
    "\n",
    "# Average Listen Time Per Song\n",
    "song_arr = json_df[\"msPlayed\"]\n",
    "song_count = 0\n",
    "length_total = 0\n",
    "for lengths in song_arr:\n",
    "    song_count += 1\n",
    "    length_total += lengths\n",
    "avg_listen_time_ms = length_total / song_count\n",
    "avg_listen_time_minutes = avg_listen_time_ms / 60000 #since there are 60,000 milliseconds in a minute!\n",
    "# print(\"Average Listen Time Per Song (in minutes):\", avg_listen_time_minutes)\n",
    "\n",
    "# Longest Song\n",
    "longest_song_ms = json_df[\"msPlayed\"].max()\n",
    "longest_song_data = json_df.loc[json_df[\"msPlayed\"] == longest_song_ms]\n",
    "print(\"Longest Song Listen Time Data:\", longest_song_data)\n",
    "# I know this song isnt actually the longest, as a I know this is only 5 minute song, and\n",
    "# there are other songs nearing 9 minutes. I think it tracked this song for longer than 9 minutes due to \n",
    "# it possibly being replayed mid-song (AKA I replayed the song before it actually ended).\n",
    "\n",
    "# Shortest Song\n",
    "shortest_song_ms = json_df[\"msPlayed\"].min()\n",
    "shortest_song_data = json_df.loc[json_df[\"msPlayed\"] == shortest_song_ms]\n",
    "print(\"Shortest Song Listen Time Data:\", shortest_song_data)\n",
    "# the reason why there are so many of these is due to the fact of me skipping over a number of songs at once\n",
    "# for example, I would listen to a \"spotify radio\" for so long it would turn to songs I didnt know, so I would imediately skip them.\n",
    "\n",
    "# Average Letters Per Song Title\n",
    "track_arr = json_df[\"trackName\"]\n",
    "title_count = 0\n",
    "total_letters = 0\n",
    "for titles in track_arr:\n",
    "    title_count += 1\n",
    "    for letters in titles:\n",
    "        total_letters += 1\n",
    "avg_letters_per_title = total_letters / title_count\n",
    "print(\"Average Letters Per Song Title:\", avg_letters_per_title)\n",
    "\n",
    "# Average Letters per Artist Name\n",
    "artist_arr = json_df[\"artistName\"]\n",
    "artist_count = 0\n",
    "total_letters = 0\n",
    "for artist in artist_arr:\n",
    "    artist_count += 1\n",
    "    for letters in artist:\n",
    "        total_letters += 1\n",
    "avg_letters_per_artist = total_letters / title_count\n",
    "print(\"Average Letters Per Artist Name:\", avg_letters_per_artist)\n",
    "\n",
    "# Top Artists\n",
    "top_15_artists = artist_arr.value_counts().head(15)\n",
    "print(\"My Top 15 Spotify Artists Based Off Songs Listened To:\")\n",
    "print(top_15_artists)"
   ]
  },
  {
   "cell_type": "code",
   "execution_count": null,
   "metadata": {},
   "outputs": [
    {
     "name": "stderr",
     "output_type": "stream",
     "text": [
      "C:\\Users\\carso\\AppData\\Local\\Temp/ipykernel_27352/228240807.py:42: FutureWarning: casting datetime64[ns] values to int64 with .astype(...) is deprecated and will raise in a future version. Use .view(...) instead.\n",
      "  df.astype('int64').dtypes\n",
      "C:\\Users\\carso\\AppData\\Local\\Temp/ipykernel_27352/228240807.py:45: FutureWarning: Series.dt.weekofyear and Series.dt.week have been deprecated.  Please use Series.dt.isocalendar().week instead.\n",
      "  weekNumber = df['endTime'].dt.week\n"
     ]
    }
   ],
   "source": [
    "# Now for more conversion, let's turn the json into a csv!\n",
    "json_df.to_csv(\"carson_StreamingData.csv\", index=False)\n",
    "\n",
    "## read in the data file\n",
    "streams_df1 = pd.read_csv(\"YAY_merged.csv\")   # loaded in Jaylene's data\n",
    "\n",
    "## change the date to per day\n",
    "## use the classifier from last DA to change these dates to numeric?\n",
    "        # pretty sure already wrote code similar to this\n",
    "streams_df1[ \"WK\" ] = pd.to_datetime(streams_df1[\"endTime\"]).dt.isocalendar().week     #  reference: https://techtrekking.com/how-to-convert-daily-time-series-data-into-weekly-and-monthly-using-pandas-and-python/\n",
    "# print(\"***\", streams_df1, \"***\")              # test\n",
    "# streams_df1[\"endTime\"] = streams_df1[\"WK\"]\n",
    "# streams_df1.drop([\"WK\"], axis=1)\n",
    "# # print(streams_df1)              # test\n",
    "# # streams_df1.to_csv(\"YAY_Carson.csv\", index= False)\n",
    "# streams_df1.drop(\"WK\", inplace=True, axis=1)\n",
    "sorted_streams = streams_df1.sort_values(by='endTime', ascending=True)\n",
    "# print(\"***\", sorted_streams)\n",
    "# # streams_df1.sort(\"endTime\")\t# test\n",
    "# # sorted_streams.to_csv(\"YAY_Jaylene.csv\", index= False)\n",
    "# sorted_streams.to_csv(\"Updated_YAY_merged.csv\", index= False)\n",
    "df = pd.read_csv(\"true_updated_YAY.csv\")\n",
    "sorted_df = df.sort_values(by=\"endTime\", ascending=True)\n",
    "sorted_df.to_csv(\"VERY_TRUE_YAY.csv\", index=False)\n",
    "# streams_df1.drop(\"endTime\", inplace=True, axis=1)\n",
    "# streams_df1.to_csv(\"YAY_Carson.csv\", index= False)\n",
    "## CODE REFERENCE\n",
    "## link: https://www.geeksforgeeks.org/extract-week-number-from-date-in-pandas-python/\n",
    "## another link: https://www.geeksforgeeks.org/convert-json-to-csv-in-python/\n",
    "\n",
    "# importing pandas as pd\n",
    "# import pandas as pd \n",
    "  \n",
    "# # creating a dictionary containing a date\n",
    "dict = streams_df1[\"endTime\"]\n",
    "  \n",
    "# # converting the dictionary to a dataframe\n",
    "df = pd.DataFrame.from_dict(dict)\n",
    "  \n",
    "# # converting the date to the required format\n",
    "df['endTime'] = pd.to_datetime(df['endTime'], errors ='coerce')\n",
    "df.astype('int64').dtypes\n",
    "  \n",
    "# # extracting the week from the date\n",
    "weekNumber = df['endTime'].dt.week\n",
    "# print(weekNumber)\n",
    "  \n",
    "# print(weekNumber)\n",
    "# df[\"endTime\"] = weekNumber\n",
    "# print(df[\"endTime\"])\n",
    "\n",
    "# streams_df2 = streams_df1.to_csv(\"StreamingHistory_updated.csv\", index = False)\n",
    "# ## CODE REFERENCE\n"
   ]
  },
  {
   "cell_type": "markdown",
   "metadata": {},
   "source": [
    "### Cleaning:\n",
    "* There is very little/no cleaning needed for this data. The biggest factor in this cateogry would be if song length were to be analyzed in the future, the milliseconds would have to be converted into minutes and seconds. For the following hypothesis tests and visualizations, it's not needed. \n",
    "\n",
    "### Visualizations:\n",
    "I have chosen to create a bar graph of my 15 top artists: how many times I have listened to the artist and the number of times my most listened song of theirs was played."
   ]
  },
  {
   "cell_type": "code",
   "execution_count": null,
   "metadata": {},
   "outputs": [
    {
     "data": {
      "image/png": "[encoded data removed]",
      "text/plain": [
       "<Figure size 432x288 with 1 Axes>"
      ]
     },
     "metadata": {
      "needs_background": "dark"
     },
     "output_type": "display_data"
    },
    {
     "data": {
      "image/png": "[encoded data removed]",
      "text/plain": [
       "<Figure size 432x288 with 1 Axes>"
      ]
     },
     "metadata": {},
     "output_type": "display_data"
    }
   ],
   "source": [
    "# I know I already imported these in a previous cell but it wouldn't run if I didn't import again... :(\n",
    "# import numpy as np\n",
    "# import pandas as pd\n",
    "\n",
    "# Creating the Graphs:\n",
    "\n",
    "# creating a series for the top 5 artist:\n",
    "# data inputed in increasing order:\n",
    "num_of_streams = np.array([483, 487, 212, 149, 96, 95, 77, 74, 70, 67, 60, 56, 53, 48, 48])   # total artist streams (all albums, all songs)\n",
    "num_of_genre = np.array([4, 3, 1, 1, 5, 1])\n",
    "genre_for_artist = np.array([\"4rap\", \"3hiphop\", \"1alternative\", \"1rock\", \"5pop\", \"1alternative pop rock\"])\n",
    "artist_for_streams = [\"Kanye West:Rap\", \"Mac Miller:Hip-Hop\", \"Joji:Alternative\", \"JAY-Z:Hip-Hop\", \"J. Cole:Rap\", \"Kid Cudi:Rap\", \"Cage The Elephant:Rock\", \"The Weeknd:Pop\", \"Drake:Rap\", \"Aminé:Hiphop\", \"Dominic Fike:AltPopRock\", \"Rihanna:Pop\", \"Katy Perry:Pop\", \"Maroon 5:Pop\", \"B.o.B:Pop\"] \n",
    "artist_ser = pd.Series(num_of_streams, index=artist_for_streams)\n",
    "# genre_ser = pd.Series(genre_for_artist, index=artist_for_streams)\n",
    "\n",
    "# Let's visualize some Data!\n",
    "import matplotlib.pyplot as plt\n",
    "# Let's start with my top artist and the amount of songs each have\n",
    "\n",
    "plt.figure()\n",
    "plt.xlabel(\"Artists\", color=\"white\")\n",
    "plt.xticks(rotation=55, ha=\"right\", color=\"white\")\n",
    "plt.yticks(color=\"white\")\n",
    "plt.ylabel(\"Total Songs Played\", color=\"white\")\n",
    "plt.title(\"Top 15 Artists/Songs Listened To\", color=\"white\")\n",
    "# this creates a new current figure, instead of adding to the previou one\n",
    "plt.bar(top_15_artists.index, top_15_artists)\n",
    "# plt.savefig(\"bar_example.png\")\n",
    "\n",
    "def pie_chart(x_ser, y_ser):\n",
    "    plt.figure() # will create a new \"current\" figure\n",
    "    plt.title(\"Spotify Genre For Top 15 Artists\")\n",
    "    plt.pie(y_ser, labels=x_ser, autopct=\"%.2f%%\")      # pass in only y_ser because that has the acutal counts of the data... use x_ser as the labels, autppct = auto percent... how to automatically display percentages for pie sectors. the %% will display two decimal places i think... either way just keep the formatting of it the same\n",
    "    # plt.savefig(\"Genre_Chart.png\")\n",
    "\n",
    "# Bar Graph:\n",
    "# call bar_chart \n",
    "# plt.bar(artist_for_streams, artist_ser, \"Spotify Streaming Data: Most Popular Artist\", \"Most_Popular_Artist.png\")     # calling graph for total of all streams from an artist(spanning multiple albums)\n",
    "# Pie Chart:\n",
    "pie_chart(genre_for_artist, num_of_genre)"
   ]
  },
  {
   "cell_type": "markdown",
   "metadata": {},
   "source": [
    "## Hypothesis 1:\n",
    "* I want to test and see if I listen to more Mac Miller songs than I do"
   ]
  },
  {
   "cell_type": "markdown",
   "metadata": {},
   "source": [
    "### Hypothesis Testing:\n",
    "Is Carson more likely to listen to pop genre from the given time frame of 2021-06-26 to 2022-01-29?\n",
    "- took top 15 artists and found their genre\n",
    "- pop occurs _ times as the genre of the top artists\n",
    "\n",
    "1. Identify null and alternative hypothesis  \n",
    "* H0: M(pop) $\\ge$ 4 \n",
    "* H1: M(pop) < 4\n",
    "\n",
    "2. Level of significance  \n",
    "$ \\alpha = 0.01 $\n",
    "\n",
    "3. Select test statistic:\n",
    "test statistic: $$ t = \\frac{\\overline{x} - \\mu }{\\frac{s}{\\sqrt{n}}} $$\n",
    "\n",
    "4. Computations:\n",
    "- is a left-tailed test\n",
    "- df = 6-1 = 5 (because there are 6 different genres)\n",
    "- t-table value = 2.998\n",
    "- if t-computed > 2.998 then we reject H0. If t-commputed is less than or equal to 2.998, then we cannot reject H0.\n",
    "- this results in: $$ t = \\frac{2.14 - 4 }{\\frac{1.21}{\\sqrt{6}}} $$ $$ t (computed) = -2.086 $$\n",
    "\n",
    "5. Decision:  \n",
    "At a level of 0.01 significance, we cannot reject H0 since t-computed (-2.086) < t-critical (2.998). Thus we cannot say that pop is more likely to be listened to.  \n",
    "- double check work with python code:"
   ]
  },
  {
   "cell_type": "code",
   "execution_count": null,
   "metadata": {},
   "outputs": [
    {
     "name": "stdout",
     "output_type": "stream",
     "text": [
      "t: -2.0868250309207568 pval 0.04563356323729004\n",
      "reject H0\n"
     ]
    }
   ],
   "source": [
    "from scipy import stats\n",
    "import numpy as np\n",
    "# let's check our work with scipy\n",
    "num_of_genre = np.array([4, 3, 1, 1, 5, 1])\n",
    "len_num_of_genre = len(num_of_genre)\n",
    "std = np.std(num_of_genre, ddof=1)\n",
    "mean = np.mean(num_of_genre)\n",
    "# print(len_num_of_genre, mean, std)\n",
    "t, pval = stats.ttest_1samp(num_of_genre, 4)\n",
    "pval /= 2 # p-value = the probablity that this sample comes from this distribution\n",
    "print(\"t:\", t, \"pval\", pval)\n",
    "alpha = 0.01\n",
    "if alpha < pval:\n",
    "    print(\"reject H0\")\n",
    "else: \n",
    "    print(\"do not reject H0\")"
   ]
  },
  {
   "cell_type": "markdown",
   "metadata": {},
   "source": [
    "### Other Hypothesis Testing Ideas (future brainstorming):\n",
    "- could the results change if we're basing the analysis from another time frame\n",
    "- what about if you look at all of the streaming data\n",
    "\n",
    "\n",
    "\n",
    "\n",
    "### Conclusion:\n",
    "Overall, my top 15 artists were heavily centered around pop music. However, based on the table of streams and the hypothesis testing above, we cannot conclude that I am more likely to listen to pop more than any other genre. Because of this, one of my initial predictions was wrong. I think it's interesting how there are many different versions of pop!\n",
    "\n",
    "However, some of my initial predictions were correct. For example, my favorite artist was clearly Taylor Swift and my thrid artist was Lana Del Rey!\n",
    "\n",
    "\n",
    "Sum total amount of data listened to on a given day. H0: we listen to the same amount. H1, we dont listen ot the same amount\n",
    "- groupby genre to find "
   ]
  }
 ],
 "metadata": {
  "interpreter": {
   "hash": "13444eeae3222260d5f4c5ca1a52742249bd23a9f11f060f60412bdacd0f3829"
  },
  "kernelspec": {
   "display_name": "Python 3.9.7 ('base')",
   "language": "python",
   "name": "python3"
  },
  "language_info": {
   "codemirror_mode": {
    "name": "ipython",
    "version": 3
   },
   "file_extension": ".py",
   "mimetype": "text/x-python",
   "name": "python",
   "nbconvert_exporter": "python",
   "pygments_lexer": "ipython3",
   "version": "3.9.7"
  },
  "orig_nbformat": 4
 },
 "nbformat": 4,
 "nbformat_minor": 2
}
