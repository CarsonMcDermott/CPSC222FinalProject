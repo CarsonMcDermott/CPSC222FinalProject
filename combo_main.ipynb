{
 "cells": [
  {
   "cell_type": "markdown",
   "metadata": {},
   "source": [
    "## Hypothesis 2:\n",
    "* We want to see if, depending on the genre of the song, we can guess what the length of the song will be."
   ]
  },
  {
   "cell_type": "markdown",
   "metadata": {},
   "source": [
    "### Hypothesis Testing Setup:\n",
    "- Are Jaylene and Carson \n",
    "- k\n",
    "- k\n",
    "\n",
    "1. Identify null and alternative hypothesis  \n",
    "* H0: M(pop) $\\ge$ 4 \n",
    "* H1: M(pop) < 4\n",
    "\n",
    "2. Level of significance\n",
    "$ \\alpha = 0.01 $\n",
    "\n",
    "3. Select test statistic:\n",
    "test statistic: $$ t = \\frac{\\overline{x} - \\mu }{\\frac{s}{\\sqrt{n}}} $$\n",
    "\n",
    "4. Computations:\n",
    "- is a left-tailed test\n",
    "- df = 6-1 = 5 (because there are 6 different genres)\n",
    "- t-table value = 2.998\n",
    "- if t-computed > 2.998 then we reject H0. If t-commputed is less than or equal to 2.998, then we cannot reject H0.\n",
    "- this results in: $$ t = \\frac{2.14 - 4 }{\\frac{1.21}{\\sqrt{6}}} $$ $$ t (computed) = -2.086 $$\n",
    "\n",
    "5. Decision:  \n",
    "At a level of 0.01 significance, we cannot reject H0 since t-computed (-2.086) < t-critical (2.998). Thus we cannot say that pop is more likely to be listened to.  \n",
    "- double check work with python code:"
   ]
  },
  {
   "cell_type": "code",
   "execution_count": null,
   "metadata": {},
   "outputs": [],
   "source": [
    "from scipy import stats\n",
    "import numpy as np\n",
    "# let's check our work with scipy\n",
    "num_of_genre = np.array([4, 3, 1, 1, 5, 1])\n",
    "len_num_of_genre = len(num_of_genre)\n",
    "std = np.std(num_of_genre, ddof=1)\n",
    "mean = np.mean(num_of_genre)\n",
    "# print(len_num_of_genre, mean, std)\n",
    "t, pval = stats.ttest_1samp(num_of_genre, 4)\n",
    "pval /= 2 # p-value = the probablity that this sample comes from this distribution\n",
    "print(\"t:\", t, \"pval\", pval)\n",
    "alpha = 0.01\n",
    "if alpha < pval:\n",
    "    print(\"reject H0\")\n",
    "else: \n",
    "    print(\"do not reject H0\")"
   ]
  }
 ],
 "metadata": {
  "language_info": {
   "name": "python"
  },
  "orig_nbformat": 4
 },
 "nbformat": 4,
 "nbformat_minor": 2
}
